{
 "cells": [
  {
   "cell_type": "code",
   "execution_count": 1,
   "id": "bb68be41",
   "metadata": {},
   "outputs": [],
   "source": [
    "# Load environment variables and set up auto-reload\n",
    "from dotenv import load_dotenv\n",
    "load_dotenv()\n",
    "\n",
    "%load_ext autoreload\n",
    "%autoreload 2"
   ]
  },
  {
   "cell_type": "code",
   "execution_count": 9,
   "id": "292ae6c6",
   "metadata": {},
   "outputs": [
    {
     "name": "stdout",
     "output_type": "stream",
     "text": [
      "Overwriting studio/simpleGraph2.py\n"
     ]
    }
   ],
   "source": [
    "%%writefile studio/simpleGraph2.py\n",
    "\n",
    "from dotenv import load_dotenv\n",
    "load_dotenv()\n",
    "\n",
    "from typing import Annotated\n",
    "\n",
    "from langchain.chat_models import init_chat_model\n",
    "from typing_extensions import TypedDict\n",
    "from langchain_core.messages import SystemMessage, HumanMessage, RemoveMessage\n",
    "\n",
    "from langgraph.graph import StateGraph, START, END\n",
    "from langgraph.graph.message import add_messages\n",
    "from langgraph.checkpoint.memory import MemorySaver  # Add this import\n",
    "\n",
    "from langgraph.graph import MessagesState\n",
    "class State(MessagesState):\n",
    "    summary: str\n",
    "\n",
    "\n",
    "def chatbot(state: State):\n",
    "    llm = init_chat_model(\"anthropic:claude-3-5-sonnet-latest\")\n",
    "    return {\"messages\": [llm.invoke(state[\"messages\"])]}\n",
    "\n",
    "def summarizer(state: State):\n",
    "    llm = init_chat_model(\"anthropic:claude-3-5-sonnet-latest\")\n",
    "    summary_message = \"Create a summary of the conversation above:\"\n",
    "    # Add prompt to our history\n",
    "    messages = state[\"messages\"] + [HumanMessage(content=summary_message)]\n",
    "    response = llm.invoke(messages)\n",
    "    return {\"summary\": response.content}\n",
    "\n",
    "\n",
    "graph_builder = StateGraph(State)\n",
    "# The first argument is the unique node name\n",
    "# The second argument is the function or object that will be called whenever\n",
    "# the node is used.\n",
    "graph_builder.add_node(\"chatbot\", chatbot)\n",
    "graph_builder.add_node(\"summarizer\", summarizer)\n",
    "\n",
    "graph_builder.add_edge(START, \"chatbot\")\n",
    "graph_builder.add_edge(\"chatbot\", \"summarizer\")\n",
    "graph_builder.add_edge(\"summarizer\", END)\n",
    "\n",
    "\n",
    "# Add checkpointer for persistence\n",
    "checkpointer = MemorySaver()\n",
    "#graph = graph_builder.compile(checkpointer=checkpointer)  # Add checkpointer her\n",
    "graph = graph_builder.compile()  # Add checkpointer her"
   ]
  },
  {
   "cell_type": "code",
   "execution_count": 2,
   "id": "b21cd7cb",
   "metadata": {},
   "outputs": [
    {
     "data": {
      "image/png": "[encoded data removed]",
      "text/plain": [
       "<IPython.core.display.Image object>"
      ]
     },
     "metadata": {},
     "output_type": "display_data"
    }
   ],
   "source": [
    "from studio.simpleGraph2 import graph\n",
    "\n",
    "from IPython.display import Image, display\n",
    "\n",
    "try:\n",
    "    display(Image(graph.get_graph().draw_mermaid_png()))\n",
    "except Exception:\n",
    "    # This requires some extra dependencies and is optional\n",
    "    pass"
   ]
  },
  {
   "cell_type": "code",
   "execution_count": 3,
   "id": "1251df63",
   "metadata": {},
   "outputs": [],
   "source": [
    "import uuid\n",
    "\n",
    "# Generate a unique thread ID\n",
    "thread_id = str(uuid.uuid4())\n",
    "config = {\"configurable\": {\"thread_id\": thread_id}}"
   ]
  },
  {
   "cell_type": "code",
   "execution_count": 4,
   "id": "857d2002",
   "metadata": {},
   "outputs": [
    {
     "data": {
      "text/plain": [
       "{'configurable': {'thread_id': '07db6dde-cb4f-40aa-abaa-07b924ce435a'}}"
      ]
     },
     "execution_count": 4,
     "metadata": {},
     "output_type": "execute_result"
    }
   ],
   "source": [
    "config"
   ]
  },
  {
   "cell_type": "code",
   "execution_count": 5,
   "id": "a7c20c4a",
   "metadata": {},
   "outputs": [
    {
     "data": {
      "text/plain": [
       "{'messages': [HumanMessage(content='hello', additional_kwargs={}, response_metadata={}, id='ab94027f-138b-4831-a54e-3d6019563d3c'),\n",
       "  AIMessage(content='Hi! How can I help you today?', additional_kwargs={}, response_metadata={'id': 'msg_01CGzFpUyGxGEMFDENA4XVkq', 'model': 'claude-3-5-sonnet-20241022', 'stop_reason': 'end_turn', 'stop_sequence': None, 'usage': {'cache_creation': {'ephemeral_1h_input_tokens': 0, 'ephemeral_5m_input_tokens': 0}, 'cache_creation_input_tokens': 0, 'cache_read_input_tokens': 0, 'input_tokens': 8, 'output_tokens': 12, 'server_tool_use': None, 'service_tier': 'standard'}, 'model_name': 'claude-3-5-sonnet-20241022', 'model_provider': 'anthropic'}, id='lc_run--4cfb1671-0806-4a98-be94-ca24ab55db9c-0', usage_metadata={'input_tokens': 8, 'output_tokens': 12, 'total_tokens': 20, 'input_token_details': {'cache_read': 0, 'cache_creation': 0, 'ephemeral_5m_input_tokens': 0, 'ephemeral_1h_input_tokens': 0}})],\n",
       " 'summary': 'The conversation consisted of a simple greeting exchange where the user said \"hello\" and I responded with \"Hi! How can I help you today?\"'}"
      ]
     },
     "execution_count": 5,
     "metadata": {},
     "output_type": "execute_result"
    }
   ],
   "source": [
    "graph.invoke({\"messages\": [{\"role\":\"human\", \"content\": \"hello\"}]},config=config)"
   ]
  },
  {
   "cell_type": "code",
   "execution_count": 6,
   "id": "8fc00977",
   "metadata": {},
   "outputs": [
    {
     "data": {
      "text/plain": [
       "{'messages': [HumanMessage(content='hello', additional_kwargs={}, response_metadata={}, id='ab94027f-138b-4831-a54e-3d6019563d3c'),\n",
       "  AIMessage(content='Hi! How can I help you today?', additional_kwargs={}, response_metadata={'id': 'msg_01CGzFpUyGxGEMFDENA4XVkq', 'model': 'claude-3-5-sonnet-20241022', 'stop_reason': 'end_turn', 'stop_sequence': None, 'usage': {'cache_creation': {'ephemeral_1h_input_tokens': 0, 'ephemeral_5m_input_tokens': 0}, 'cache_creation_input_tokens': 0, 'cache_read_input_tokens': 0, 'input_tokens': 8, 'output_tokens': 12, 'server_tool_use': None, 'service_tier': 'standard'}, 'model_name': 'claude-3-5-sonnet-20241022', 'model_provider': 'anthropic'}, id='lc_run--4cfb1671-0806-4a98-be94-ca24ab55db9c-0', usage_metadata={'input_tokens': 8, 'output_tokens': 12, 'total_tokens': 20, 'input_token_details': {'cache_creation': 0, 'cache_read': 0, 'ephemeral_5m_input_tokens': 0, 'ephemeral_1h_input_tokens': 0}}),\n",
       "  HumanMessage(content='My name is Ajit. I live in Greater Noida', additional_kwargs={}, response_metadata={}, id='3bd07a7e-6de9-4ce4-b74b-f1ed33c51df2'),\n",
       "  AIMessage(content='Hello Ajit! Nice to meet you. Greater Noida is a planned city in Uttar Pradesh, India, known for its educational institutions, IT companies, and developing infrastructure. How long have you been living there? Is there anything specific I can help you with today?', additional_kwargs={}, response_metadata={'id': 'msg_011zB71vqppPMsNhqMPCHy27', 'model': 'claude-3-5-sonnet-20241022', 'stop_reason': 'end_turn', 'stop_sequence': None, 'usage': {'cache_creation': {'ephemeral_1h_input_tokens': 0, 'ephemeral_5m_input_tokens': 0}, 'cache_creation_input_tokens': 0, 'cache_read_input_tokens': 0, 'input_tokens': 37, 'output_tokens': 61, 'server_tool_use': None, 'service_tier': 'standard'}, 'model_name': 'claude-3-5-sonnet-20241022', 'model_provider': 'anthropic'}, id='lc_run--20657980-1c72-4efc-8075-2e146839dbab-0', usage_metadata={'input_tokens': 37, 'output_tokens': 61, 'total_tokens': 98, 'input_token_details': {'cache_read': 0, 'cache_creation': 0, 'ephemeral_5m_input_tokens': 0, 'ephemeral_1h_input_tokens': 0}})],\n",
       " 'summary': 'Summary of conversation:\\n- A user named Ajit introduced himself\\n- He mentioned he lives in Greater Noida\\n- I greeted him and provided some basic information about Greater Noida, such as its location in Uttar Pradesh and notable characteristics\\n- I asked him about his duration of stay and offered assistance'}"
      ]
     },
     "execution_count": 6,
     "metadata": {},
     "output_type": "execute_result"
    }
   ],
   "source": [
    "graph.invoke({\"messages\": [{\"role\":\"human\", \"content\": \"My name is Ajit. I live in Greater Noida\"}]},config=config)"
   ]
  },
  {
   "cell_type": "code",
   "execution_count": 7,
   "id": "6057973e",
   "metadata": {},
   "outputs": [
    {
     "data": {
      "text/plain": [
       "{'messages': [HumanMessage(content='hello', additional_kwargs={}, response_metadata={}, id='ab94027f-138b-4831-a54e-3d6019563d3c'),\n",
       "  AIMessage(content='Hi! How can I help you today?', additional_kwargs={}, response_metadata={'id': 'msg_01CGzFpUyGxGEMFDENA4XVkq', 'model': 'claude-3-5-sonnet-20241022', 'stop_reason': 'end_turn', 'stop_sequence': None, 'usage': {'cache_creation': {'ephemeral_1h_input_tokens': 0, 'ephemeral_5m_input_tokens': 0}, 'cache_creation_input_tokens': 0, 'cache_read_input_tokens': 0, 'input_tokens': 8, 'output_tokens': 12, 'server_tool_use': None, 'service_tier': 'standard'}, 'model_name': 'claude-3-5-sonnet-20241022', 'model_provider': 'anthropic'}, id='lc_run--4cfb1671-0806-4a98-be94-ca24ab55db9c-0', usage_metadata={'input_tokens': 8, 'output_tokens': 12, 'total_tokens': 20, 'input_token_details': {'cache_creation': 0, 'cache_read': 0, 'ephemeral_5m_input_tokens': 0, 'ephemeral_1h_input_tokens': 0}}),\n",
       "  HumanMessage(content='My name is Ajit. I live in Greater Noida', additional_kwargs={}, response_metadata={}, id='3bd07a7e-6de9-4ce4-b74b-f1ed33c51df2'),\n",
       "  AIMessage(content='Hello Ajit! Nice to meet you. Greater Noida is a planned city in Uttar Pradesh, India, known for its educational institutions, IT companies, and developing infrastructure. How long have you been living there? Is there anything specific I can help you with today?', additional_kwargs={}, response_metadata={'id': 'msg_011zB71vqppPMsNhqMPCHy27', 'model': 'claude-3-5-sonnet-20241022', 'stop_reason': 'end_turn', 'stop_sequence': None, 'usage': {'cache_creation': {'ephemeral_1h_input_tokens': 0, 'ephemeral_5m_input_tokens': 0}, 'cache_creation_input_tokens': 0, 'cache_read_input_tokens': 0, 'input_tokens': 37, 'output_tokens': 61, 'server_tool_use': None, 'service_tier': 'standard'}, 'model_name': 'claude-3-5-sonnet-20241022', 'model_provider': 'anthropic'}, id='lc_run--20657980-1c72-4efc-8075-2e146839dbab-0', usage_metadata={'input_tokens': 37, 'output_tokens': 61, 'total_tokens': 98, 'input_token_details': {'cache_creation': 0, 'cache_read': 0, 'ephemeral_5m_input_tokens': 0, 'ephemeral_1h_input_tokens': 0}}),\n",
       "  HumanMessage(content='What is my name? And country do I live in? What is my gender?', additional_kwargs={}, response_metadata={}, id='e60f3441-3a66-4a27-98a1-b88d11c05689'),\n",
       "  AIMessage(content=\"Based on our conversation:\\n\\nYour name: Ajit\\nCountry: India (specifically in Greater Noida, Uttar Pradesh)\\nGender: You haven't mentioned your gender, so I cannot determine that.\", additional_kwargs={}, response_metadata={'id': 'msg_01P4DVaiBXNiFZKPQ8vF8VNM', 'model': 'claude-3-5-sonnet-20241022', 'stop_reason': 'end_turn', 'stop_sequence': None, 'usage': {'cache_creation': {'ephemeral_1h_input_tokens': 0, 'ephemeral_5m_input_tokens': 0}, 'cache_creation_input_tokens': 0, 'cache_read_input_tokens': 0, 'input_tokens': 118, 'output_tokens': 48, 'server_tool_use': None, 'service_tier': 'standard'}, 'model_name': 'claude-3-5-sonnet-20241022', 'model_provider': 'anthropic'}, id='lc_run--a26f3553-5634-4c1f-bb7f-96f5044819ed-0', usage_metadata={'input_tokens': 118, 'output_tokens': 48, 'total_tokens': 166, 'input_token_details': {'cache_read': 0, 'cache_creation': 0, 'ephemeral_5m_input_tokens': 0, 'ephemeral_1h_input_tokens': 0}})],\n",
       " 'summary': 'Summary of our conversation:\\n\\nYou introduced yourself as Ajit and mentioned that you live in Greater Noida. After that, you asked me to confirm your name, country of residence, and gender. I confirmed that your name is Ajit and that you live in India (Greater Noida), but noted that your gender was not mentioned in our conversation.'}"
      ]
     },
     "execution_count": 7,
     "metadata": {},
     "output_type": "execute_result"
    }
   ],
   "source": [
    "graph.invoke({\"messages\": [{\"role\":\"human\", \"content\": \"What is my name? And country do I live in? What is my gender?\"}]},config=config)"
   ]
  },
  {
   "cell_type": "code",
   "execution_count": 8,
   "id": "0a0be96c",
   "metadata": {},
   "outputs": [
    {
     "data": {
      "text/plain": [
       "{'messages': [HumanMessage(content='hello', additional_kwargs={}, response_metadata={}, id='ab94027f-138b-4831-a54e-3d6019563d3c'),\n",
       "  AIMessage(content='Hi! How can I help you today?', additional_kwargs={}, response_metadata={'id': 'msg_01CGzFpUyGxGEMFDENA4XVkq', 'model': 'claude-3-5-sonnet-20241022', 'stop_reason': 'end_turn', 'stop_sequence': None, 'usage': {'cache_creation': {'ephemeral_1h_input_tokens': 0, 'ephemeral_5m_input_tokens': 0}, 'cache_creation_input_tokens': 0, 'cache_read_input_tokens': 0, 'input_tokens': 8, 'output_tokens': 12, 'server_tool_use': None, 'service_tier': 'standard'}, 'model_name': 'claude-3-5-sonnet-20241022', 'model_provider': 'anthropic'}, id='lc_run--4cfb1671-0806-4a98-be94-ca24ab55db9c-0', usage_metadata={'input_tokens': 8, 'output_tokens': 12, 'total_tokens': 20, 'input_token_details': {'cache_creation': 0, 'cache_read': 0, 'ephemeral_5m_input_tokens': 0, 'ephemeral_1h_input_tokens': 0}}),\n",
       "  HumanMessage(content='My name is Ajit. I live in Greater Noida', additional_kwargs={}, response_metadata={}, id='3bd07a7e-6de9-4ce4-b74b-f1ed33c51df2'),\n",
       "  AIMessage(content='Hello Ajit! Nice to meet you. Greater Noida is a planned city in Uttar Pradesh, India, known for its educational institutions, IT companies, and developing infrastructure. How long have you been living there? Is there anything specific I can help you with today?', additional_kwargs={}, response_metadata={'id': 'msg_011zB71vqppPMsNhqMPCHy27', 'model': 'claude-3-5-sonnet-20241022', 'stop_reason': 'end_turn', 'stop_sequence': None, 'usage': {'cache_creation': {'ephemeral_1h_input_tokens': 0, 'ephemeral_5m_input_tokens': 0}, 'cache_creation_input_tokens': 0, 'cache_read_input_tokens': 0, 'input_tokens': 37, 'output_tokens': 61, 'server_tool_use': None, 'service_tier': 'standard'}, 'model_name': 'claude-3-5-sonnet-20241022', 'model_provider': 'anthropic'}, id='lc_run--20657980-1c72-4efc-8075-2e146839dbab-0', usage_metadata={'input_tokens': 37, 'output_tokens': 61, 'total_tokens': 98, 'input_token_details': {'cache_creation': 0, 'cache_read': 0, 'ephemeral_5m_input_tokens': 0, 'ephemeral_1h_input_tokens': 0}}),\n",
       "  HumanMessage(content='What is my name? And country do I live in? What is my gender?', additional_kwargs={}, response_metadata={}, id='e60f3441-3a66-4a27-98a1-b88d11c05689'),\n",
       "  AIMessage(content=\"Based on our conversation:\\n\\nYour name: Ajit\\nCountry: India (specifically in Greater Noida, Uttar Pradesh)\\nGender: You haven't mentioned your gender, so I cannot determine that.\", additional_kwargs={}, response_metadata={'id': 'msg_01P4DVaiBXNiFZKPQ8vF8VNM', 'model': 'claude-3-5-sonnet-20241022', 'stop_reason': 'end_turn', 'stop_sequence': None, 'usage': {'cache_creation': {'ephemeral_1h_input_tokens': 0, 'ephemeral_5m_input_tokens': 0}, 'cache_creation_input_tokens': 0, 'cache_read_input_tokens': 0, 'input_tokens': 118, 'output_tokens': 48, 'server_tool_use': None, 'service_tier': 'standard'}, 'model_name': 'claude-3-5-sonnet-20241022', 'model_provider': 'anthropic'}, id='lc_run--a26f3553-5634-4c1f-bb7f-96f5044819ed-0', usage_metadata={'input_tokens': 118, 'output_tokens': 48, 'total_tokens': 166, 'input_token_details': {'cache_creation': 0, 'cache_read': 0, 'ephemeral_5m_input_tokens': 0, 'ephemeral_1h_input_tokens': 0}}),\n",
       "  HumanMessage(content=\"Can't you guess the gender from my name?\", additional_kwargs={}, response_metadata={}, id='b899f59a-aabd-4da5-a52d-9db89abfda95'),\n",
       "  AIMessage(content='Yes, Ajit is typically a male name in Indian culture. It has Sanskrit origins and means \"unconquered\" or \"invincible.\" So based on your name, I can deduce that you are most likely male. However, I try to avoid making assumptions about gender without explicit confirmation, as it\\'s best practice to let individuals specify their own gender identity.', additional_kwargs={}, response_metadata={'id': 'msg_012rUE7RcSmyPrg6f5bPEHCK', 'model': 'claude-3-5-sonnet-20241022', 'stop_reason': 'end_turn', 'stop_sequence': None, 'usage': {'cache_creation': {'ephemeral_1h_input_tokens': 0, 'ephemeral_5m_input_tokens': 0}, 'cache_creation_input_tokens': 0, 'cache_read_input_tokens': 0, 'input_tokens': 179, 'output_tokens': 79, 'server_tool_use': None, 'service_tier': 'standard'}, 'model_name': 'claude-3-5-sonnet-20241022', 'model_provider': 'anthropic'}, id='lc_run--99a45cf4-6c01-489d-8a98-52a24c20ce66-0', usage_metadata={'input_tokens': 179, 'output_tokens': 79, 'total_tokens': 258, 'input_token_details': {'cache_read': 0, 'cache_creation': 0, 'ephemeral_5m_input_tokens': 0, 'ephemeral_1h_input_tokens': 0}})],\n",
       " 'summary': 'Here\\'s a summary of our conversation:\\n\\nYou introduced yourself as Ajit, a resident of Greater Noida, India. Through our interaction, I learned that your name Ajit is traditionally a male Indian name meaning \"unconquered\" or \"invincible\" in Sanskrit. We discussed your location - Greater Noida, which is a planned city in Uttar Pradesh, India. When you asked me to identify what I knew about you, it led to a discussion about gender identification, where I explained that while Ajit is typically a male name, I prefer not to make assumptions about gender without explicit confirmation.'}"
      ]
     },
     "execution_count": 8,
     "metadata": {},
     "output_type": "execute_result"
    }
   ],
   "source": [
    "graph.invoke({\"messages\": [{\"role\":\"human\", \"content\": \"Can't you guess the gender from my name?\"}]},config=config)"
   ]
  },
  {
   "cell_type": "code",
   "execution_count": null,
   "id": "9a19e6a6",
   "metadata": {},
   "outputs": [],
   "source": []
  }
 ],
 "metadata": {
  "kernelspec": {
   "display_name": ".venv",
   "language": "python",
   "name": "python3"
  },
  "language_info": {
   "codemirror_mode": {
    "name": "ipython",
    "version": 3
   },
   "file_extension": ".py",
   "mimetype": "text/x-python",
   "name": "python",
   "nbconvert_exporter": "python",
   "pygments_lexer": "ipython3",
   "version": "3.13.9"
  }
 },
 "nbformat": 4,
 "nbformat_minor": 5
}
