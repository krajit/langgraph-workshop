{
 "cells": [
  {
   "cell_type": "code",
   "execution_count": null,
   "id": "c58f7e68",
   "metadata": {},
   "outputs": [],
   "source": [
    "\n",
    "%load_ext autoreload\n",
    "%autoreload 2"
   ]
  },
  {
   "cell_type": "code",
   "execution_count": 1,
   "id": "5bce5e9d",
   "metadata": {},
   "outputs": [
    {
     "name": "stdout",
     "output_type": "stream",
     "text": [
      "Writing studio/webnode.py\n"
     ]
    }
   ],
   "source": [
    "%%writefile studio/webnode.py\n",
    "\n",
    "from dotenv import load_dotenv\n",
    "load_dotenv()\n",
    "\n",
    "from typing import Annotated\n",
    "\n",
    "from langchain.chat_models import init_chat_model\n",
    "from typing_extensions import TypedDict\n",
    "from langchain_core.messages import SystemMessage, HumanMessage, RemoveMessage\n",
    "from langchain_tavily import TavilySearch\n",
    "\n",
    "from langgraph.graph import StateGraph, START, END\n",
    "from langgraph.graph.message import add_messages\n",
    "from langgraph.checkpoint.memory import MemorySaver  # Add this import\n",
    "\n",
    "from langgraph.graph import MessagesState\n",
    "\n",
    "class State(TypedDict):\n",
    "    question: str\n",
    "    search_results: str  # Add this field to store search results\n",
    "    summarized_result: str\n",
    "\n",
    "\n",
    "def web_search(state: State):\n",
    "\n",
    "    # Initialize Tavily search\n",
    "    search = TavilySearch(max_results=3)  # Limit to 3 results for brevity\n",
    "\n",
    "    try:\n",
    "        # Perform the search\n",
    "        response = search.invoke(state[\"question\"])\n",
    "\n",
    "        print(response)\n",
    "\n",
    "        # Format the results\n",
    "        formatted_results = []\n",
    "        for result in response[\"results\"]:\n",
    "            formatted_results.append(f\"Title: {result.get('title', 'N/A')}\\nURL: {result.get('url', 'N/A')}\\nContent: {result.get('content', 'N/A')}\\n\")\n",
    "\n",
    "        search_summary = \"\\n\".join(formatted_results)\n",
    "\n",
    "        return {\"search_results\": search_summary}\n",
    "\n",
    "    except Exception as e:\n",
    "        return {\"search_results\": f\"Search failed: {str(e)}\"}"
   ]
  },
  {
   "cell_type": "code",
   "execution_count": 16,
   "id": "ebcadb6a",
   "metadata": {},
   "outputs": [
    {
     "data": {
      "text/plain": [
       "{'question': 'Ajit Kumar from Shiv Nadar University'}"
      ]
     },
     "execution_count": 16,
     "metadata": {},
     "output_type": "execute_result"
    }
   ],
   "source": [
    "state = State(question=\"Ajit Kumar from Shiv Nadar University\")\n",
    "state"
   ]
  },
  {
   "cell_type": "code",
   "execution_count": 17,
   "id": "978ef96d",
   "metadata": {},
   "outputs": [
    {
     "name": "stdout",
     "output_type": "stream",
     "text": [
      "{'query': 'Ajit Kumar from Shiv Nadar University', 'follow_up_questions': None, 'answer': None, 'images': [], 'results': [{'url': 'https://www.zoominfo.com/p/Ajit-Kumar/12276427198', 'title': 'Contact Ajit Kumar, Email: ****@snu.edu.in & Phone ... - ZoomInfo', 'content': 'Ajit Kumar is a QC Microbiologist at Shiv Nadar University based in Dadri, Uttar Pradesh. Previously, Ajit was a Microbiologist at Auraiya healthcare private', 'score': 0.8851659, 'raw_content': None}, {'url': 'https://scholargps.com/scholars/74815155169926/ajit-kumar', 'title': 'Ajit Kumar | Scholar Profiles and Rankings | ScholarGPS', 'content': 'Ajit Kumar ; Affiliation. Shiv Nadar University, Greater Noida, India ; Field. Physical Sciences and Mathematics ; Discipline. Mathematics ; Top Specialties. Energy.', 'score': 0.7763013, 'raw_content': None}, {'url': 'https://github.com/krajit', 'title': 'Ajit Kumar krajit - GitHub', 'content': 'Ajit Kumar krajit. Follow. Assistant Professor, Dept of Mathematics, Shiv Nadar University. 63 followers · 0 following. Shiv Nadar University. Greater Noida', 'score': 0.76826453, 'raw_content': None}], 'response_time': 0.0, 'request_id': 'd95fbbc2-a7f5-4ba7-994d-49604e6705a7'}\n"
     ]
    },
    {
     "data": {
      "text/plain": [
       "{'search_results': 'Title: Contact Ajit Kumar, Email: ****@snu.edu.in & Phone ... - ZoomInfo\\nURL: https://www.zoominfo.com/p/Ajit-Kumar/12276427198\\nContent: Ajit Kumar is a QC Microbiologist at Shiv Nadar University based in Dadri, Uttar Pradesh. Previously, Ajit was a Microbiologist at Auraiya healthcare private\\n\\nTitle: Ajit Kumar | Scholar Profiles and Rankings | ScholarGPS\\nURL: https://scholargps.com/scholars/74815155169926/ajit-kumar\\nContent: Ajit Kumar ; Affiliation. Shiv Nadar University, Greater Noida, India ; Field. Physical Sciences and Mathematics ; Discipline. Mathematics ; Top Specialties. Energy.\\n\\nTitle: Ajit Kumar krajit - GitHub\\nURL: https://github.com/krajit\\nContent: Ajit Kumar krajit. Follow. Assistant Professor, Dept of Mathematics, Shiv Nadar University. 63 followers · 0 following. Shiv Nadar University. Greater Noida\\n'}"
      ]
     },
     "execution_count": 17,
     "metadata": {},
     "output_type": "execute_result"
    }
   ],
   "source": [
    "web_search(state)"
   ]
  },
  {
   "cell_type": "code",
   "execution_count": 18,
   "id": "dada714c",
   "metadata": {},
   "outputs": [
    {
     "data": {
      "text/plain": [
       "{'question': 'Ajit Kumar from Shiv Nadar University'}"
      ]
     },
     "execution_count": 18,
     "metadata": {},
     "output_type": "execute_result"
    }
   ],
   "source": [
    "state"
   ]
  },
  {
   "cell_type": "code",
   "execution_count": null,
   "id": "491de2f2",
   "metadata": {},
   "outputs": [],
   "source": []
  }
 ],
 "metadata": {
  "kernelspec": {
   "display_name": ".venv",
   "language": "python",
   "name": "python3"
  },
  "language_info": {
   "codemirror_mode": {
    "name": "ipython",
    "version": 3
   },
   "file_extension": ".py",
   "mimetype": "text/x-python",
   "name": "python",
   "nbconvert_exporter": "python",
   "pygments_lexer": "ipython3",
   "version": "3.13.9"
  }
 },
 "nbformat": 4,
 "nbformat_minor": 5
}
