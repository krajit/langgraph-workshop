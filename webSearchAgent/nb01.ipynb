{
 "cells": [
  {
   "cell_type": "code",
   "execution_count": 1,
   "id": "bb68be41",
   "metadata": {},
   "outputs": [],
   "source": [
    "# Load environment variables and set up auto-reload\n",
    "from dotenv import load_dotenv\n",
    "load_dotenv()\n",
    "\n",
    "%load_ext autoreload\n",
    "%autoreload 2"
   ]
  },
  {
   "cell_type": "code",
   "execution_count": 7,
   "id": "292ae6c6",
   "metadata": {},
   "outputs": [
    {
     "name": "stdout",
     "output_type": "stream",
     "text": [
      "Overwriting studio/websearchAgent01.py\n"
     ]
    }
   ],
   "source": [
    "%%writefile studio/websearchAgent01.py\n",
    "\n",
    "from dotenv import load_dotenv\n",
    "load_dotenv()\n",
    "\n",
    "from typing import Annotated\n",
    "\n",
    "from langchain.chat_models import init_chat_model\n",
    "from typing_extensions import TypedDict\n",
    "from langchain_core.messages import SystemMessage, HumanMessage, RemoveMessage\n",
    "from langchain_tavily import TavilySearch\n",
    "\n",
    "from langgraph.graph import StateGraph, START, END\n",
    "from langgraph.graph.message import add_messages\n",
    "from langgraph.checkpoint.memory import MemorySaver  # Add this import\n",
    "\n",
    "from langgraph.graph import MessagesState\n",
    "\n",
    "from studio.webnode import web_search\n",
    "\n",
    "class State(TypedDict):\n",
    "    question: str\n",
    "    search_results: str  # Add this field to store search results\n",
    "    summarized_result: str\n",
    "\n",
    "\n",
    "def summarizer(state: State):\n",
    "    llm = init_chat_model(\"anthropic:claude-3-5-sonnet-latest\")\n",
    "\n",
    "    prompt_template = \"\"\"\n",
    "    You are  a helpful assistant. You are will be given a question the context to answer the question. Give a short concise answer to the question based on the context. \n",
    "    If you don't know the answer, just say so.\n",
    "\n",
    "    Question: {question}\n",
    "    Context: {context}\n",
    "    Ans: \n",
    "    \"\"\"\n",
    "    response = llm.invoke(prompt_template.format(question=state[\"question\"], context=state[\"search_results\"]))\n",
    "    return {\"summarized_result\": response.content}\n",
    "\n",
    "\n",
    "graph_builder = StateGraph(State)\n",
    "# The first argument is the unique node name\n",
    "# The second argument is the function or object that will be called whenever\n",
    "# the node is used.\n",
    "graph_builder.add_node(\"web_search\", web_search)\n",
    "graph_builder.add_node(\"summarizer\", summarizer)\n",
    "\n",
    "# Simple flow: web search -> chatbot with search results -> summarizer\n",
    "graph_builder.add_edge(START, \"web_search\")\n",
    "graph_builder.add_edge(\"web_search\", \"summarizer\")\n",
    "graph_builder.add_edge(\"summarizer\", END)\n",
    "\n",
    "# Add checkpointer for persistence\n",
    "checkpointer = MemorySaver()\n",
    "#graph = graph_builder.compile(checkpointer=checkpointer)  # Add checkpointer her\n",
    "graph = graph_builder.compile()  # Add checkpointer her"
   ]
  },
  {
   "cell_type": "code",
   "execution_count": 3,
   "id": "b21cd7cb",
   "metadata": {},
   "outputs": [
    {
     "data": {
      "image/png": "[encoded data removed]",
      "text/plain": [
       "<IPython.core.display.Image object>"
      ]
     },
     "metadata": {},
     "output_type": "display_data"
    }
   ],
   "source": [
    "from studio.websearchAgent01 import graph\n",
    "\n",
    "from IPython.display import Image, display\n",
    "\n",
    "try:\n",
    "    display(Image(graph.get_graph().draw_mermaid_png()))\n",
    "except Exception:\n",
    "    # This requires some extra dependencies and is optional\n",
    "    pass"
   ]
  },
  {
   "cell_type": "code",
   "execution_count": 4,
   "id": "1251df63",
   "metadata": {},
   "outputs": [],
   "source": [
    "import uuid\n",
    "\n",
    "# Generate a unique thread ID\n",
    "thread_id = str(uuid.uuid4())\n",
    "config = {\"configurable\": {\"thread_id\": thread_id}}"
   ]
  },
  {
   "cell_type": "code",
   "execution_count": 5,
   "id": "857d2002",
   "metadata": {},
   "outputs": [
    {
     "data": {
      "text/plain": [
       "{'configurable': {'thread_id': '76024059-dc5d-4f44-94d3-6daea6a3216e'}}"
      ]
     },
     "execution_count": 5,
     "metadata": {},
     "output_type": "execute_result"
    }
   ],
   "source": [
    "config"
   ]
  },
  {
   "cell_type": "code",
   "execution_count": 6,
   "id": "a7c20c4a",
   "metadata": {},
   "outputs": [
    {
     "name": "stdout",
     "output_type": "stream",
     "text": [
      "{'query': 'Find email address of Sneh Lata, Shiv Nadar University', 'follow_up_questions': None, 'answer': None, 'images': [], 'results': [{'url': 'https://snu.edu.in/faculty/sneh-lata/', 'title': 'Sneh Lata - Shiv Nadar University', 'content': 'Sneh Lata. Faculty at School of Natural Sciences. Sneh Lata. Associate Professor School of Natural Sciences. Contact Information. Email: [email protected]', 'score': 0.89053273, 'raw_content': None}, {'url': 'https://snu.edu.in/site/assets/files/16490/phd_profile_meet_our_scholarsfinal_1.pdf', 'title': '[PDF] MEET OUR SCHOLARS - Shiv Nadar University', 'content': 'Email: am455@snu.edu.in. Guide: Indranil Biswas. Department of. Mathematics. Email: ak954@snu.edu.in. Guide: Sneh Lata. Department of. Mathematics. Email: di843', 'score': 0.87218446, 'raw_content': None}, {'url': 'https://snu.edu.in/site/assets/files/4259/parents_handbook_a5_040724.pdf', 'title': '[PDF] parents_handbook_a5_040724.pdf - Shiv Nadar University', 'content': 'Sneh lata sneh.lata@snu.edu.in. Dr. Niteesh Sahni niteesh.sahni@snu.edu.in. Chemistry, SoNS. Dr. Bimlesh Lochab bimlesh.lochab@snu.edu.in. Dr. Basab Bijayi Dhar.', 'score': 0.82186085, 'raw_content': None}], 'response_time': 0.94, 'request_id': '692dd4f6-918b-4916-9ccf-aaca0925abca'}\n"
     ]
    },
    {
     "data": {
      "text/plain": [
       "{'question': 'Find email address of Sneh Lata, Shiv Nadar University',\n",
       " 'search_results': 'Title: Sneh Lata - Shiv Nadar University\\nURL: https://snu.edu.in/faculty/sneh-lata/\\nContent: Sneh Lata. Faculty at School of Natural Sciences. Sneh Lata. Associate Professor School of Natural Sciences. Contact Information. Email: [email protected]\\n\\nTitle: [PDF] MEET OUR SCHOLARS - Shiv Nadar University\\nURL: https://snu.edu.in/site/assets/files/16490/phd_profile_meet_our_scholarsfinal_1.pdf\\nContent: Email: am455@snu.edu.in. Guide: Indranil Biswas. Department of. Mathematics. Email: ak954@snu.edu.in. Guide: Sneh Lata. Department of. Mathematics. Email: di843\\n\\nTitle: [PDF] parents_handbook_a5_040724.pdf - Shiv Nadar University\\nURL: https://snu.edu.in/site/assets/files/4259/parents_handbook_a5_040724.pdf\\nContent: Sneh lata sneh.lata@snu.edu.in. Dr. Niteesh Sahni niteesh.sahni@snu.edu.in. Chemistry, SoNS. Dr. Bimlesh Lochab bimlesh.lochab@snu.edu.in. Dr. Basab Bijayi Dhar.\\n',\n",
       " 'summarized_result': \"Based on the context, Sneh Lata's email address at Shiv Nadar University is sneh.lata@snu.edu.in\"}"
      ]
     },
     "execution_count": 6,
     "metadata": {},
     "output_type": "execute_result"
    }
   ],
   "source": [
    "graph.invoke({\"question\":\"Find email address of Sneh Lata, Shiv Nadar University\"},config=config)"
   ]
  },
  {
   "cell_type": "code",
   "execution_count": null,
   "id": "9a19e6a6",
   "metadata": {},
   "outputs": [],
   "source": []
  }
 ],
 "metadata": {
  "kernelspec": {
   "display_name": ".venv",
   "language": "python",
   "name": "python3"
  },
  "language_info": {
   "codemirror_mode": {
    "name": "ipython",
    "version": 3
   },
   "file_extension": ".py",
   "mimetype": "text/x-python",
   "name": "python",
   "nbconvert_exporter": "python",
   "pygments_lexer": "ipython3",
   "version": "3.13.9"
  }
 },
 "nbformat": 4,
 "nbformat_minor": 5
}
