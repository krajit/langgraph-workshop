{
 "cells": [
  {
   "cell_type": "code",
   "execution_count": 1,
   "id": "58dbc2d5",
   "metadata": {},
   "outputs": [],
   "source": [
    "from dotenv import load_dotenv\n",
    "load_dotenv()\n",
    "\n",
    "%load_ext autoreload\n",
    "%autoreload 2"
   ]
  },
  {
   "cell_type": "code",
   "execution_count": 2,
   "id": "c8fb82a4",
   "metadata": {},
   "outputs": [
    {
     "name": "stdout",
     "output_type": "stream",
     "text": [
      "Overwriting states.py\n"
     ]
    }
   ],
   "source": [
    "%%writefile states.py\n",
    "\n",
    "from typing_extensions import TypedDict\n",
    "class State(TypedDict):\n",
    "    question: str\n",
    "    search_results: str  # Add this field to store search results\n",
    "    summarized_result: str"
   ]
  },
  {
   "cell_type": "code",
   "execution_count": 3,
   "id": "adb2d9fa",
   "metadata": {},
   "outputs": [],
   "source": [
    "from states import State"
   ]
  },
  {
   "cell_type": "code",
   "execution_count": 4,
   "id": "85583ff5",
   "metadata": {},
   "outputs": [],
   "source": [
    "state = State(question=\"what\")"
   ]
  },
  {
   "cell_type": "code",
   "execution_count": 5,
   "id": "1359c570",
   "metadata": {},
   "outputs": [
    {
     "data": {
      "text/plain": [
       "{'question': 'what'}"
      ]
     },
     "execution_count": 5,
     "metadata": {},
     "output_type": "execute_result"
    }
   ],
   "source": [
    "state"
   ]
  },
  {
   "cell_type": "code",
   "execution_count": null,
   "id": "114127f1",
   "metadata": {},
   "outputs": [],
   "source": []
  }
 ],
 "metadata": {
  "kernelspec": {
   "display_name": ".venv",
   "language": "python",
   "name": "python3"
  },
  "language_info": {
   "codemirror_mode": {
    "name": "ipython",
    "version": 3
   },
   "file_extension": ".py",
   "mimetype": "text/x-python",
   "name": "python",
   "nbconvert_exporter": "python",
   "pygments_lexer": "ipython3",
   "version": "3.13.9"
  }
 },
 "nbformat": 4,
 "nbformat_minor": 5
}
