{
 "cells": [
  {
   "cell_type": "code",
   "execution_count": 1,
   "id": "40129566",
   "metadata": {},
   "outputs": [],
   "source": [
    "%load_ext autoreload\n",
    "%autoreload 2"
   ]
  },
  {
   "cell_type": "code",
   "execution_count": 2,
   "id": "6018f175",
   "metadata": {},
   "outputs": [
    {
     "name": "stdout",
     "output_type": "stream",
     "text": [
      "Overwriting agent.py\n"
     ]
    }
   ],
   "source": [
    "%%writefile agent.py \n",
    "\n",
    "\n",
    "from dotenv import load_dotenv\n",
    "load_dotenv()\n",
    "\n",
    "# A simple test graph\n",
    "from langgraph.graph import StateGraph, START, END\n",
    "\n",
    "\n",
    "from states import State\n",
    "from webnode import web_search_node\n",
    "from summarizer import summarizer_node\n",
    "\n",
    "graph_builder = StateGraph(State)\n",
    "\n",
    "graph_builder.add_node(\"web_search\", web_search_node)\n",
    "graph_builder.add_node(\"summarize\", summarizer_node)\n",
    "\n",
    "graph_builder.add_edge(START, \"web_search\")\n",
    "graph_builder.add_edge(\"web_search\",\"summarize\")\n",
    "graph_builder.add_edge(\"summarize\", END)\n",
    "graph = graph_builder.compile() \n"
   ]
  },
  {
   "cell_type": "code",
   "execution_count": 3,
   "id": "a065349d",
   "metadata": {},
   "outputs": [
    {
     "data": {
      "image/png": "[encoded data removed]",
      "text/plain": [
       "<IPython.core.display.Image object>"
      ]
     },
     "metadata": {},
     "output_type": "display_data"
    }
   ],
   "source": [
    "from IPython.display import Image, display\n",
    "\n",
    "from agent import graph\n",
    "\n",
    "try:\n",
    "    display(Image(graph.get_graph().draw_mermaid_png()))\n",
    "except Exception:\n",
    "    # This requires some extra dependencies and is optional\n",
    "    pass"
   ]
  },
  {
   "cell_type": "code",
   "execution_count": 4,
   "id": "45e71dbc",
   "metadata": {},
   "outputs": [
    {
     "data": {
      "text/plain": [
       "{'question': 'Ajit Kumar Shiv Nadar University',\n",
       " 'search_results': 'Title:Ajit Kumar - Shiv Nadar University\\nURL:https://snu.edu.in/faculty/ajit-kumar/\\nContent: Image 1: Shiv Nadar University Logo Image 2 Image 3 *   Admissions *   Programs *   Schools and Centers *   Department of Civil Engineering *   Department of Mechanical Engineering *   Department of Computer Science and Engineering *   Department of Chemical Engineering *   Department of Electrical Engineering *   Department of Chemistry *   Department of Life Sciences *   Department of Mathematics *   Department of Physics *   Department of Design *   Department of Economics *   Department of English *   Department of International Relations and Governance Studies *   Department of Sociology *   Department of Rural Management Image 6: Ajit Kumar Your Admission Assistant. *   Programs *   Admissions *   Schools and Centers *   Student Handbook *   Admission Blogs *   Parent Handbook *   For UG Admissions 1800-102-1768\\n\\nTitle:Ajit Kumar - -- | LinkedIn\\nURL:https://in.linkedin.com/in/ajit-kumar-81346352\\nContent: Ajit Kumar\\n--\\nNoida, Uttar Pradesh, India\\n120 connections, 129 followers\\n\\n\\nAbout\\nAs a faculty member, my primary expertise lies in teaching Applied Mathematics courses. I enjoy developing applications and writing code to solve real-world problems. Recently, my work has focused on projects involving Machine Learning and AI-related topics. Apart from research and teaching, I am involved in some projects which aim to fill few gaps in our education system. These include designing effective study habits and developing innovative tools for delivering impactful courses.\\n\\n\\nExperience\\nShiv Nadar University\\n[Shiv Nadar University](https://in.linkedin.com/school/shiv-nadar-university/?trk=public_profile_experience-group-header)  \\nN/A - Present\\nN/A\\n\\n\\n\\nEducation\\nUniversity of Houston\\nDoctor of Philosophy - PhD, Applied Mathematics\\n2005 - 2011\\nNone\\n\\nTitle:Ajit KUMAR | Shiv Nadar University, Dādri | Research profile\\nURL:https://www.researchgate.net/profile/Ajit-Kumar-76\\nContent: Ajit KUMAR | Cited by 102 | of Shiv Nadar University, Dādri | Read 7 publications | Contact Ajit KUMAR.\\n\\nTitle:Ajit Kumar\\nURL:https://krajit.github.io/\\nContent: | Mathematical Methods 1 (MAT103) | Monsoon 2024, 2023, 2022, 2021, 2020, 2019, 2017, 2016, 2015 | First Year Engineering Students | 250 (average) | Above 3.5 | | Mathematical Methods 2 (MAT104) | Spring 2023, 2022, 2021, 2020, 2017, 2016 | First Year Engineering Students | 200 (average) | Above 3.5 | | Causal Machine Learning (MAT696) | Spring 2021 | PhD Mathematics | 1 | | Numerical Optimization (MAT678) | Spring 2020 | PhD Mathematics | 3 | | Numerical PDE (MAT694) | Spring 2019 | PhD Mathematics | 2 | | Partial Differential Equations (MAT330) | Monsoon 2018, 2017; Spring 2016 | 3rd & 4th Year BS Mathematics | 40 | 3.5 |\\n\\nTitle:Ajit Kumar krajit - GitHub\\nURL:https://github.com/krajit\\nContent: Ajit Kumar krajit. Follow. Assistant Professor, Dept of Mathematics, Shiv Nadar University. 63 followers · 0 following. Shiv Nadar University. Greater Noida\\n',\n",
       " 'summarized_result': 'Based on the context, Ajit Kumar is an Assistant Professor in the Department of Mathematics at Shiv Nadar University. He specializes in Applied Mathematics and teaches various mathematics courses including Mathematical Methods, Numerical Optimization, and Partial Differential Equations. He has a PhD in Applied Mathematics from the University of Houston and focuses on Machine Learning and AI-related topics in his recent work.'}"
      ]
     },
     "execution_count": 4,
     "metadata": {},
     "output_type": "execute_result"
    }
   ],
   "source": [
    "state = {'question': 'Ajit Kumar Shiv Nadar University'}\n",
    "\n",
    "state = graph.invoke(state)\n",
    "\n",
    "state"
   ]
  },
  {
   "cell_type": "code",
   "execution_count": null,
   "id": "3e671679",
   "metadata": {},
   "outputs": [],
   "source": []
  }
 ],
 "metadata": {
  "kernelspec": {
   "display_name": ".venv",
   "language": "python",
   "name": "python3"
  },
  "language_info": {
   "codemirror_mode": {
    "name": "ipython",
    "version": 3
   },
   "file_extension": ".py",
   "mimetype": "text/x-python",
   "name": "python",
   "nbconvert_exporter": "python",
   "pygments_lexer": "ipython3",
   "version": "3.13.9"
  }
 },
 "nbformat": 4,
 "nbformat_minor": 5
}
