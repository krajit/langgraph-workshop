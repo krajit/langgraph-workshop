{
 "cells": [
  {
   "cell_type": "code",
   "execution_count": 1,
   "id": "40129566",
   "metadata": {},
   "outputs": [],
   "source": [
    "%load_ext autoreload\n",
    "%autoreload 2"
   ]
  },
  {
   "cell_type": "code",
   "execution_count": 2,
   "id": "6018f175",
   "metadata": {},
   "outputs": [
    {
     "name": "stdout",
     "output_type": "stream",
     "text": [
      "Overwriting summarizer.py\n"
     ]
    }
   ],
   "source": [
    "%%writefile summarizer.py \n",
    "\n",
    "\n",
    "from dotenv import load_dotenv\n",
    "load_dotenv()\n",
    "\n",
    "from langchain.chat_models import init_chat_model\n",
    "from states import State\n",
    "\n",
    "def summarizer_node(state: State):\n",
    "    llm = init_chat_model(\"anthropic:claude-3-5-sonnet-latest\")\n",
    "\n",
    "    prompt_template = \"\"\"\n",
    "    You are  a helpful assistant. You are will be given a question the context to answer the question. Give a short concise answer to the question based on the context. \n",
    "    If you don't know the answer, just say so.\n",
    "\n",
    "    Question: {question}\n",
    "    Context: {context}\n",
    "    Ans: \n",
    "    \"\"\"\n",
    "    response = llm.invoke(prompt_template.format(question=state[\"question\"], context=state[\"search_results\"]))\n",
    "    return {\"summarized_result\": response.content}"
   ]
  },
  {
   "cell_type": "code",
   "execution_count": 3,
   "id": "4d07e460",
   "metadata": {},
   "outputs": [],
   "source": [
    "state = {'question': 'Ajit Kumar Shiv Nadar University',\n",
    " 'search_results': \"Title:Ajit Kumar's email & phone - Shiv Nadar University\\nURL:https://www.datanyze.com/people/Ajit-Kumar/12693059685\\nContent: Ajit Kumar works as a QC Microbiologist at Shiv Nadar University, which is a Colleges & Universities company with an estimated 16 employees; and founded in 2011\\n\\nTitle:Who are some of the best professors at Shiv Nadar ...\\nURL:https://www.quora.com/Who-are-some-of-the-best-professors-at-Shiv-Nadar-University\\nContent: Ajit Kumar: He is one of the professors in the mathematics department. He has a very unique style of teaching. He believes in zero mugging\\n\\nTitle:Ajit Kumar krajit\\nURL:https://github.com/krajit\\nContent: Ajit Kumar krajit. Follow. Assistant Professor, Dept of Mathematics, Shiv Nadar University. 63 followers · 0 following. Shiv Nadar University. Greater Noida\\n\\nTitle:Ajit Kumar\\nURL:https://snu.edu.in/faculty/ajit-kumar/\\nContent: Image 1: Shiv Nadar University Logo Image 2 Image 3 *   Admissions *   Programs *   Schools and Centers *   Department of Civil Engineering *   Department of Mechanical Engineering *   Department of Computer Science and Engineering *   Department of Chemical Engineering *   Department of Electrical Engineering *   Department of Chemistry *   Department of Life Sciences *   Department of Mathematics *   Department of Physics *   Department of Design *   Department of Economics *   Department of English *   Department of International Relations and Governance Studies *   Department of Sociology *   Department of Rural Management Image 6: Ajit Kumar Your Admission Assistant. *   Programs *   Admissions *   Schools and Centers *   Student Handbook *   Admission Blogs *   Parent Handbook *   For UG Admissions 1800-102-1768\\n\\nTitle:Dr. Ajit Kumar\\nURL:https://scholar.google.com/citations?user=IVuwuEwAAAAJ&hl=en\\nContent: Bimlesh LochabProfessor, Shiv Nadar UniversityVerified email at snu.edu.in ... SM Abhinanda Sengupta, Ajit Kumar, Gayatree Barik, Aakash Ahuja, Jit Ghosh\\n\"}\n",
    "\n",
    "# state = summarizer_node(state)\n",
    "\n",
    "# state\n"
   ]
  },
  {
   "cell_type": "code",
   "execution_count": 4,
   "id": "ed774318",
   "metadata": {},
   "outputs": [],
   "source": [
    "# A simple test graph\n",
    "from langgraph.graph import StateGraph, START, END\n",
    "\n",
    "from states import State\n",
    "from summarizer import summarizer_node\n",
    "\n",
    "graph_builder = StateGraph(State)\n",
    "\n",
    "graph_builder.add_node(\"summarize\", summarizer_node)\n",
    "\n",
    "graph_builder.add_edge(START, \"summarize\")\n",
    "graph_builder.add_edge(\"summarize\", END)\n",
    "graph = graph_builder.compile() "
   ]
  },
  {
   "cell_type": "code",
   "execution_count": 5,
   "id": "a065349d",
   "metadata": {},
   "outputs": [
    {
     "data": {
      "image/png": "[encoded data removed]",
      "text/plain": [
       "<IPython.core.display.Image object>"
      ]
     },
     "metadata": {},
     "output_type": "display_data"
    }
   ],
   "source": [
    "from IPython.display import Image, display\n",
    "\n",
    "try:\n",
    "    display(Image(graph.get_graph().draw_mermaid_png()))\n",
    "except Exception:\n",
    "    # This requires some extra dependencies and is optional\n",
    "    pass"
   ]
  },
  {
   "cell_type": "code",
   "execution_count": 6,
   "id": "45e71dbc",
   "metadata": {},
   "outputs": [
    {
     "data": {
      "text/plain": [
       "{'question': 'Ajit Kumar Shiv Nadar University',\n",
       " 'search_results': \"Title:Ajit Kumar's email & phone - Shiv Nadar University\\nURL:https://www.datanyze.com/people/Ajit-Kumar/12693059685\\nContent: Ajit Kumar works as a QC Microbiologist at Shiv Nadar University, which is a Colleges & Universities company with an estimated 16 employees; and founded in 2011\\n\\nTitle:Who are some of the best professors at Shiv Nadar ...\\nURL:https://www.quora.com/Who-are-some-of-the-best-professors-at-Shiv-Nadar-University\\nContent: Ajit Kumar: He is one of the professors in the mathematics department. He has a very unique style of teaching. He believes in zero mugging\\n\\nTitle:Ajit Kumar krajit\\nURL:https://github.com/krajit\\nContent: Ajit Kumar krajit. Follow. Assistant Professor, Dept of Mathematics, Shiv Nadar University. 63 followers · 0 following. Shiv Nadar University. Greater Noida\\n\\nTitle:Ajit Kumar\\nURL:https://snu.edu.in/faculty/ajit-kumar/\\nContent: Image 1: Shiv Nadar University Logo Image 2 Image 3 *   Admissions *   Programs *   Schools and Centers *   Department of Civil Engineering *   Department of Mechanical Engineering *   Department of Computer Science and Engineering *   Department of Chemical Engineering *   Department of Electrical Engineering *   Department of Chemistry *   Department of Life Sciences *   Department of Mathematics *   Department of Physics *   Department of Design *   Department of Economics *   Department of English *   Department of International Relations and Governance Studies *   Department of Sociology *   Department of Rural Management Image 6: Ajit Kumar Your Admission Assistant. *   Programs *   Admissions *   Schools and Centers *   Student Handbook *   Admission Blogs *   Parent Handbook *   For UG Admissions 1800-102-1768\\n\\nTitle:Dr. Ajit Kumar\\nURL:https://scholar.google.com/citations?user=IVuwuEwAAAAJ&hl=en\\nContent: Bimlesh LochabProfessor, Shiv Nadar UniversityVerified email at snu.edu.in ... SM Abhinanda Sengupta, Ajit Kumar, Gayatree Barik, Aakash Ahuja, Jit Ghosh\\n\",\n",
       " 'summarized_result': 'Based on the context provided, Ajit Kumar is an Assistant Professor in the Department of Mathematics at Shiv Nadar University. He is known for his unique teaching style and his belief in \"zero mugging\" (memorization). He also appears to have a presence on GitHub and Google Scholar.'}"
      ]
     },
     "execution_count": 6,
     "metadata": {},
     "output_type": "execute_result"
    }
   ],
   "source": [
    "state = {'question': 'Ajit Kumar Shiv Nadar University',\n",
    " 'search_results': \"Title:Ajit Kumar's email & phone - Shiv Nadar University\\nURL:https://www.datanyze.com/people/Ajit-Kumar/12693059685\\nContent: Ajit Kumar works as a QC Microbiologist at Shiv Nadar University, which is a Colleges & Universities company with an estimated 16 employees; and founded in 2011\\n\\nTitle:Who are some of the best professors at Shiv Nadar ...\\nURL:https://www.quora.com/Who-are-some-of-the-best-professors-at-Shiv-Nadar-University\\nContent: Ajit Kumar: He is one of the professors in the mathematics department. He has a very unique style of teaching. He believes in zero mugging\\n\\nTitle:Ajit Kumar krajit\\nURL:https://github.com/krajit\\nContent: Ajit Kumar krajit. Follow. Assistant Professor, Dept of Mathematics, Shiv Nadar University. 63 followers · 0 following. Shiv Nadar University. Greater Noida\\n\\nTitle:Ajit Kumar\\nURL:https://snu.edu.in/faculty/ajit-kumar/\\nContent: Image 1: Shiv Nadar University Logo Image 2 Image 3 *   Admissions *   Programs *   Schools and Centers *   Department of Civil Engineering *   Department of Mechanical Engineering *   Department of Computer Science and Engineering *   Department of Chemical Engineering *   Department of Electrical Engineering *   Department of Chemistry *   Department of Life Sciences *   Department of Mathematics *   Department of Physics *   Department of Design *   Department of Economics *   Department of English *   Department of International Relations and Governance Studies *   Department of Sociology *   Department of Rural Management Image 6: Ajit Kumar Your Admission Assistant. *   Programs *   Admissions *   Schools and Centers *   Student Handbook *   Admission Blogs *   Parent Handbook *   For UG Admissions 1800-102-1768\\n\\nTitle:Dr. Ajit Kumar\\nURL:https://scholar.google.com/citations?user=IVuwuEwAAAAJ&hl=en\\nContent: Bimlesh LochabProfessor, Shiv Nadar UniversityVerified email at snu.edu.in ... SM Abhinanda Sengupta, Ajit Kumar, Gayatree Barik, Aakash Ahuja, Jit Ghosh\\n\"}\n",
    "\n",
    "\n",
    "state = graph.invoke(state)\n",
    "\n",
    "state"
   ]
  },
  {
   "cell_type": "code",
   "execution_count": null,
   "id": "03246bc9",
   "metadata": {},
   "outputs": [],
   "source": []
  }
 ],
 "metadata": {
  "kernelspec": {
   "display_name": ".venv",
   "language": "python",
   "name": "python3"
  },
  "language_info": {
   "codemirror_mode": {
    "name": "ipython",
    "version": 3
   },
   "file_extension": ".py",
   "mimetype": "text/x-python",
   "name": "python",
   "nbconvert_exporter": "python",
   "pygments_lexer": "ipython3",
   "version": "3.13.9"
  }
 },
 "nbformat": 4,
 "nbformat_minor": 5
}
