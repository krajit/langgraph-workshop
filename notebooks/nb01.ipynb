{
 "cells": [
  {
   "cell_type": "code",
   "execution_count": 1,
   "id": "bb68be41",
   "metadata": {},
   "outputs": [],
   "source": [
    "# Load environment variables and set up auto-reload\n",
    "from dotenv import load_dotenv\n",
    "load_dotenv()\n",
    "\n",
    "%load_ext autoreload\n",
    "%autoreload 2"
   ]
  },
  {
   "cell_type": "code",
   "execution_count": 12,
   "id": "292ae6c6",
   "metadata": {},
   "outputs": [
    {
     "name": "stdout",
     "output_type": "stream",
     "text": [
      "Overwriting studio/simpleGraph.py\n"
     ]
    }
   ],
   "source": [
    "%%writefile studio/simpleGraph.py\n",
    "\n",
    "from dotenv import load_dotenv\n",
    "load_dotenv()\n",
    "\n",
    "from typing import Annotated\n",
    "\n",
    "from langchain.chat_models import init_chat_model\n",
    "from typing_extensions import TypedDict\n",
    "\n",
    "from langgraph.graph import StateGraph, START, END\n",
    "from langgraph.graph.message import add_messages\n",
    "from langgraph.checkpoint.memory import MemorySaver  # Add this import\n",
    "\n",
    "class State(TypedDict):\n",
    "    messages: Annotated[list, add_messages]\n",
    "\n",
    "\n",
    "graph_builder = StateGraph(State)\n",
    "\n",
    "llm = init_chat_model(\"anthropic:claude-3-5-sonnet-latest\")\n",
    "\n",
    "\n",
    "def chatbot(state: State):\n",
    "    return {\"messages\": [llm.invoke(state[\"messages\"])]}\n",
    "\n",
    "\n",
    "# The first argument is the unique node name\n",
    "# The second argument is the function or object that will be called whenever\n",
    "# the node is used.\n",
    "graph_builder.add_node(\"chatbot\", chatbot)\n",
    "graph_builder.add_edge(START, \"chatbot\")\n",
    "graph_builder.add_edge(\"chatbot\", END)\n",
    "\n",
    "\n",
    "# Add checkpointer for persistence\n",
    "checkpointer = MemorySaver()\n",
    "graph = graph_builder.compile(checkpointer=checkpointer)  # Add checkpointer her"
   ]
  },
  {
   "cell_type": "code",
   "execution_count": 13,
   "id": "b21cd7cb",
   "metadata": {},
   "outputs": [
    {
     "data": {
      "image/png": "[encoded data removed]",
      "text/plain": [
       "<IPython.core.display.Image object>"
      ]
     },
     "metadata": {},
     "output_type": "display_data"
    }
   ],
   "source": [
    "from studio.simpleGraph import graph\n",
    "\n",
    "from IPython.display import Image, display\n",
    "\n",
    "try:\n",
    "    display(Image(graph.get_graph().draw_mermaid_png()))\n",
    "except Exception:\n",
    "    # This requires some extra dependencies and is optional\n",
    "    pass"
   ]
  },
  {
   "cell_type": "code",
   "execution_count": 14,
   "id": "1251df63",
   "metadata": {},
   "outputs": [],
   "source": [
    "import uuid\n",
    "\n",
    "# Generate a unique thread ID\n",
    "thread_id = str(uuid.uuid4())\n",
    "config = {\"configurable\": {\"thread_id\": thread_id}}"
   ]
  },
  {
   "cell_type": "code",
   "execution_count": 15,
   "id": "857d2002",
   "metadata": {},
   "outputs": [
    {
     "data": {
      "text/plain": [
       "{'configurable': {'thread_id': 'a317db67-797c-4983-bd74-b8bc20aae5ad'}}"
      ]
     },
     "execution_count": 15,
     "metadata": {},
     "output_type": "execute_result"
    }
   ],
   "source": [
    "config"
   ]
  },
  {
   "cell_type": "code",
   "execution_count": 16,
   "id": "a7c20c4a",
   "metadata": {},
   "outputs": [
    {
     "data": {
      "text/plain": [
       "{'messages': [HumanMessage(content='hello', additional_kwargs={}, response_metadata={}, id='267aa706-4e12-4c49-9a0a-6bcc881ce5cf'),\n",
       "  AIMessage(content='Hi! How can I help you today?', additional_kwargs={}, response_metadata={'id': 'msg_01DiSyM5LHxdVRB5CEPRAtfj', 'model': 'claude-3-5-sonnet-20241022', 'stop_reason': 'end_turn', 'stop_sequence': None, 'usage': {'cache_creation': {'ephemeral_1h_input_tokens': 0, 'ephemeral_5m_input_tokens': 0}, 'cache_creation_input_tokens': 0, 'cache_read_input_tokens': 0, 'input_tokens': 8, 'output_tokens': 12, 'server_tool_use': None, 'service_tier': 'standard'}, 'model_name': 'claude-3-5-sonnet-20241022', 'model_provider': 'anthropic'}, id='lc_run--2226d864-8d8f-47eb-a288-4870a6953626-0', usage_metadata={'input_tokens': 8, 'output_tokens': 12, 'total_tokens': 20, 'input_token_details': {'cache_read': 0, 'cache_creation': 0, 'ephemeral_5m_input_tokens': 0, 'ephemeral_1h_input_tokens': 0}})]}"
      ]
     },
     "execution_count": 16,
     "metadata": {},
     "output_type": "execute_result"
    }
   ],
   "source": [
    "graph.invoke({\"messages\": [{\"role\":\"human\", \"content\": \"hello\"}]},config=config)"
   ]
  },
  {
   "cell_type": "code",
   "execution_count": 17,
   "id": "8fc00977",
   "metadata": {},
   "outputs": [
    {
     "data": {
      "text/plain": [
       "{'messages': [HumanMessage(content='hello', additional_kwargs={}, response_metadata={}, id='267aa706-4e12-4c49-9a0a-6bcc881ce5cf'),\n",
       "  AIMessage(content='Hi! How can I help you today?', additional_kwargs={}, response_metadata={'id': 'msg_01DiSyM5LHxdVRB5CEPRAtfj', 'model': 'claude-3-5-sonnet-20241022', 'stop_reason': 'end_turn', 'stop_sequence': None, 'usage': {'cache_creation': {'ephemeral_1h_input_tokens': 0, 'ephemeral_5m_input_tokens': 0}, 'cache_creation_input_tokens': 0, 'cache_read_input_tokens': 0, 'input_tokens': 8, 'output_tokens': 12, 'server_tool_use': None, 'service_tier': 'standard'}, 'model_name': 'claude-3-5-sonnet-20241022', 'model_provider': 'anthropic'}, id='lc_run--2226d864-8d8f-47eb-a288-4870a6953626-0', usage_metadata={'input_tokens': 8, 'output_tokens': 12, 'total_tokens': 20, 'input_token_details': {'cache_creation': 0, 'cache_read': 0, 'ephemeral_5m_input_tokens': 0, 'ephemeral_1h_input_tokens': 0}}),\n",
       "  HumanMessage(content='My name is Ajit. I live in Greater Noida', additional_kwargs={}, response_metadata={}, id='17efe18c-544c-42d2-bdda-9067c000ddcd'),\n",
       "  AIMessage(content=\"Hello Ajit! Nice to meet you. Greater Noida is a planned city in Uttar Pradesh, India, located in the National Capital Region (NCR). It's known for its educational institutions, industrial areas, and planned infrastructure. How long have you been living in Greater Noida?\", additional_kwargs={}, response_metadata={'id': 'msg_01B62YTSkLLEkSp58o38c5jm', 'model': 'claude-3-5-sonnet-20241022', 'stop_reason': 'end_turn', 'stop_sequence': None, 'usage': {'cache_creation': {'ephemeral_1h_input_tokens': 0, 'ephemeral_5m_input_tokens': 0}, 'cache_creation_input_tokens': 0, 'cache_read_input_tokens': 0, 'input_tokens': 37, 'output_tokens': 66, 'server_tool_use': None, 'service_tier': 'standard'}, 'model_name': 'claude-3-5-sonnet-20241022', 'model_provider': 'anthropic'}, id='lc_run--7bd72390-d69c-4a05-a83c-7c19eadaf258-0', usage_metadata={'input_tokens': 37, 'output_tokens': 66, 'total_tokens': 103, 'input_token_details': {'cache_read': 0, 'cache_creation': 0, 'ephemeral_5m_input_tokens': 0, 'ephemeral_1h_input_tokens': 0}})]}"
      ]
     },
     "execution_count": 17,
     "metadata": {},
     "output_type": "execute_result"
    }
   ],
   "source": [
    "graph.invoke({\"messages\": [{\"role\":\"human\", \"content\": \"My name is Ajit. I live in Greater Noida\"}]},config=config)"
   ]
  },
  {
   "cell_type": "code",
   "execution_count": 18,
   "id": "6057973e",
   "metadata": {},
   "outputs": [
    {
     "data": {
      "text/plain": [
       "{'messages': [HumanMessage(content='hello', additional_kwargs={}, response_metadata={}, id='267aa706-4e12-4c49-9a0a-6bcc881ce5cf'),\n",
       "  AIMessage(content='Hi! How can I help you today?', additional_kwargs={}, response_metadata={'id': 'msg_01DiSyM5LHxdVRB5CEPRAtfj', 'model': 'claude-3-5-sonnet-20241022', 'stop_reason': 'end_turn', 'stop_sequence': None, 'usage': {'cache_creation': {'ephemeral_1h_input_tokens': 0, 'ephemeral_5m_input_tokens': 0}, 'cache_creation_input_tokens': 0, 'cache_read_input_tokens': 0, 'input_tokens': 8, 'output_tokens': 12, 'server_tool_use': None, 'service_tier': 'standard'}, 'model_name': 'claude-3-5-sonnet-20241022', 'model_provider': 'anthropic'}, id='lc_run--2226d864-8d8f-47eb-a288-4870a6953626-0', usage_metadata={'input_tokens': 8, 'output_tokens': 12, 'total_tokens': 20, 'input_token_details': {'cache_creation': 0, 'cache_read': 0, 'ephemeral_5m_input_tokens': 0, 'ephemeral_1h_input_tokens': 0}}),\n",
       "  HumanMessage(content='My name is Ajit. I live in Greater Noida', additional_kwargs={}, response_metadata={}, id='17efe18c-544c-42d2-bdda-9067c000ddcd'),\n",
       "  AIMessage(content=\"Hello Ajit! Nice to meet you. Greater Noida is a planned city in Uttar Pradesh, India, located in the National Capital Region (NCR). It's known for its educational institutions, industrial areas, and planned infrastructure. How long have you been living in Greater Noida?\", additional_kwargs={}, response_metadata={'id': 'msg_01B62YTSkLLEkSp58o38c5jm', 'model': 'claude-3-5-sonnet-20241022', 'stop_reason': 'end_turn', 'stop_sequence': None, 'usage': {'cache_creation': {'ephemeral_1h_input_tokens': 0, 'ephemeral_5m_input_tokens': 0}, 'cache_creation_input_tokens': 0, 'cache_read_input_tokens': 0, 'input_tokens': 37, 'output_tokens': 66, 'server_tool_use': None, 'service_tier': 'standard'}, 'model_name': 'claude-3-5-sonnet-20241022', 'model_provider': 'anthropic'}, id='lc_run--7bd72390-d69c-4a05-a83c-7c19eadaf258-0', usage_metadata={'input_tokens': 37, 'output_tokens': 66, 'total_tokens': 103, 'input_token_details': {'cache_creation': 0, 'cache_read': 0, 'ephemeral_5m_input_tokens': 0, 'ephemeral_1h_input_tokens': 0}}),\n",
       "  HumanMessage(content='What is my name? And country do I live in? What is my gender?', additional_kwargs={}, response_metadata={}, id='52990a05-48ee-48ca-a16d-0251d5109260'),\n",
       "  AIMessage(content='Based on our conversation:\\n\\nYour name is Ajit\\nYou live in India (specifically in Greater Noida, which is in India)\\nYour gender was not mentioned in our conversation, so I cannot determine that', additional_kwargs={}, response_metadata={'id': 'msg_01HRjFoU5xUwvrpix1aXakK7', 'model': 'claude-3-5-sonnet-20241022', 'stop_reason': 'end_turn', 'stop_sequence': None, 'usage': {'cache_creation': {'ephemeral_1h_input_tokens': 0, 'ephemeral_5m_input_tokens': 0}, 'cache_creation_input_tokens': 0, 'cache_read_input_tokens': 0, 'input_tokens': 123, 'output_tokens': 48, 'server_tool_use': None, 'service_tier': 'standard'}, 'model_name': 'claude-3-5-sonnet-20241022', 'model_provider': 'anthropic'}, id='lc_run--577a7337-8a09-4c8c-baa8-4d5ed548040f-0', usage_metadata={'input_tokens': 123, 'output_tokens': 48, 'total_tokens': 171, 'input_token_details': {'cache_read': 0, 'cache_creation': 0, 'ephemeral_5m_input_tokens': 0, 'ephemeral_1h_input_tokens': 0}})]}"
      ]
     },
     "execution_count": 18,
     "metadata": {},
     "output_type": "execute_result"
    }
   ],
   "source": [
    "graph.invoke({\"messages\": [{\"role\":\"human\", \"content\": \"What is my name? And country do I live in? What is my gender?\"}]},config=config)"
   ]
  },
  {
   "cell_type": "code",
   "execution_count": 19,
   "id": "0a0be96c",
   "metadata": {},
   "outputs": [
    {
     "data": {
      "text/plain": [
       "{'messages': [HumanMessage(content='hello', additional_kwargs={}, response_metadata={}, id='267aa706-4e12-4c49-9a0a-6bcc881ce5cf'),\n",
       "  AIMessage(content='Hi! How can I help you today?', additional_kwargs={}, response_metadata={'id': 'msg_01DiSyM5LHxdVRB5CEPRAtfj', 'model': 'claude-3-5-sonnet-20241022', 'stop_reason': 'end_turn', 'stop_sequence': None, 'usage': {'cache_creation': {'ephemeral_1h_input_tokens': 0, 'ephemeral_5m_input_tokens': 0}, 'cache_creation_input_tokens': 0, 'cache_read_input_tokens': 0, 'input_tokens': 8, 'output_tokens': 12, 'server_tool_use': None, 'service_tier': 'standard'}, 'model_name': 'claude-3-5-sonnet-20241022', 'model_provider': 'anthropic'}, id='lc_run--2226d864-8d8f-47eb-a288-4870a6953626-0', usage_metadata={'input_tokens': 8, 'output_tokens': 12, 'total_tokens': 20, 'input_token_details': {'cache_creation': 0, 'cache_read': 0, 'ephemeral_5m_input_tokens': 0, 'ephemeral_1h_input_tokens': 0}}),\n",
       "  HumanMessage(content='My name is Ajit. I live in Greater Noida', additional_kwargs={}, response_metadata={}, id='17efe18c-544c-42d2-bdda-9067c000ddcd'),\n",
       "  AIMessage(content=\"Hello Ajit! Nice to meet you. Greater Noida is a planned city in Uttar Pradesh, India, located in the National Capital Region (NCR). It's known for its educational institutions, industrial areas, and planned infrastructure. How long have you been living in Greater Noida?\", additional_kwargs={}, response_metadata={'id': 'msg_01B62YTSkLLEkSp58o38c5jm', 'model': 'claude-3-5-sonnet-20241022', 'stop_reason': 'end_turn', 'stop_sequence': None, 'usage': {'cache_creation': {'ephemeral_1h_input_tokens': 0, 'ephemeral_5m_input_tokens': 0}, 'cache_creation_input_tokens': 0, 'cache_read_input_tokens': 0, 'input_tokens': 37, 'output_tokens': 66, 'server_tool_use': None, 'service_tier': 'standard'}, 'model_name': 'claude-3-5-sonnet-20241022', 'model_provider': 'anthropic'}, id='lc_run--7bd72390-d69c-4a05-a83c-7c19eadaf258-0', usage_metadata={'input_tokens': 37, 'output_tokens': 66, 'total_tokens': 103, 'input_token_details': {'cache_creation': 0, 'cache_read': 0, 'ephemeral_5m_input_tokens': 0, 'ephemeral_1h_input_tokens': 0}}),\n",
       "  HumanMessage(content='What is my name? And country do I live in? What is my gender?', additional_kwargs={}, response_metadata={}, id='52990a05-48ee-48ca-a16d-0251d5109260'),\n",
       "  AIMessage(content='Based on our conversation:\\n\\nYour name is Ajit\\nYou live in India (specifically in Greater Noida, which is in India)\\nYour gender was not mentioned in our conversation, so I cannot determine that', additional_kwargs={}, response_metadata={'id': 'msg_01HRjFoU5xUwvrpix1aXakK7', 'model': 'claude-3-5-sonnet-20241022', 'stop_reason': 'end_turn', 'stop_sequence': None, 'usage': {'cache_creation': {'ephemeral_1h_input_tokens': 0, 'ephemeral_5m_input_tokens': 0}, 'cache_creation_input_tokens': 0, 'cache_read_input_tokens': 0, 'input_tokens': 123, 'output_tokens': 48, 'server_tool_use': None, 'service_tier': 'standard'}, 'model_name': 'claude-3-5-sonnet-20241022', 'model_provider': 'anthropic'}, id='lc_run--577a7337-8a09-4c8c-baa8-4d5ed548040f-0', usage_metadata={'input_tokens': 123, 'output_tokens': 48, 'total_tokens': 171, 'input_token_details': {'cache_creation': 0, 'cache_read': 0, 'ephemeral_5m_input_tokens': 0, 'ephemeral_1h_input_tokens': 0}}),\n",
       "  HumanMessage(content=\"Can't you guess the gender from my name?\", additional_kwargs={}, response_metadata={}, id='6719ec28-8e1d-4bd0-8976-8d68852ecf0e'),\n",
       "  AIMessage(content='Yes, \"Ajit\" is traditionally a male/masculine name commonly used in India and other South Asian countries. So based on your name, I can make an educated guess that you are male. However, I try to be cautious about making assumptions about gender since names can sometimes be used regardless of gender.', additional_kwargs={}, response_metadata={'id': 'msg_01H4kk3yiq5G84VQ56BagyDi', 'model': 'claude-3-5-sonnet-20241022', 'stop_reason': 'end_turn', 'stop_sequence': None, 'usage': {'cache_creation': {'ephemeral_1h_input_tokens': 0, 'ephemeral_5m_input_tokens': 0}, 'cache_creation_input_tokens': 0, 'cache_read_input_tokens': 0, 'input_tokens': 184, 'output_tokens': 67, 'server_tool_use': None, 'service_tier': 'standard'}, 'model_name': 'claude-3-5-sonnet-20241022', 'model_provider': 'anthropic'}, id='lc_run--7d6adee7-16e3-4609-b2b2-984062399388-0', usage_metadata={'input_tokens': 184, 'output_tokens': 67, 'total_tokens': 251, 'input_token_details': {'cache_read': 0, 'cache_creation': 0, 'ephemeral_5m_input_tokens': 0, 'ephemeral_1h_input_tokens': 0}})]}"
      ]
     },
     "execution_count": 19,
     "metadata": {},
     "output_type": "execute_result"
    }
   ],
   "source": [
    "graph.invoke({\"messages\": [{\"role\":\"human\", \"content\": \"Can't you guess the gender from my name?\"}]},config=config)"
   ]
  },
  {
   "cell_type": "code",
   "execution_count": null,
   "id": "9a19e6a6",
   "metadata": {},
   "outputs": [],
   "source": []
  }
 ],
 "metadata": {
  "kernelspec": {
   "display_name": ".venv",
   "language": "python",
   "name": "python3"
  },
  "language_info": {
   "codemirror_mode": {
    "name": "ipython",
    "version": 3
   },
   "file_extension": ".py",
   "mimetype": "text/x-python",
   "name": "python",
   "nbconvert_exporter": "python",
   "pygments_lexer": "ipython3",
   "version": "3.13.9"
  }
 },
 "nbformat": 4,
 "nbformat_minor": 5
}
