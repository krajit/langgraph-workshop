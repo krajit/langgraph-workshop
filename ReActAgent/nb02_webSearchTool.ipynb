{
 "cells": [
  {
   "cell_type": "code",
   "execution_count": 6,
   "id": "f9968015",
   "metadata": {},
   "outputs": [
    {
     "name": "stdout",
     "output_type": "stream",
     "text": [
      "The autoreload extension is already loaded. To reload it, use:\n",
      "  %reload_ext autoreload\n"
     ]
    }
   ],
   "source": [
    "%load_ext autoreload\n",
    "%autoreload 2"
   ]
  },
  {
   "cell_type": "code",
   "execution_count": 2,
   "id": "dfcad104",
   "metadata": {},
   "outputs": [
    {
     "data": {
      "text/plain": [
       "True"
      ]
     },
     "execution_count": 2,
     "metadata": {},
     "output_type": "execute_result"
    }
   ],
   "source": [
    "from dotenv import load_dotenv\n",
    "load_dotenv()"
   ]
  },
  {
   "cell_type": "code",
   "execution_count": 5,
   "id": "d30964dc",
   "metadata": {},
   "outputs": [
    {
     "name": "stdout",
     "output_type": "stream",
     "text": [
      "Writing tavilytool.py\n"
     ]
    }
   ],
   "source": [
    "%%writefile tavilytool.py\n",
    "# lets practice using Tavily\n",
    "\n",
    "from langchain_tavily import TavilySearch\n",
    "\n",
    "tool = TavilySearch(max_results = 5)\n",
    "response = tool.invoke(\"Whats a node in Langgraph?\")"
   ]
  },
  {
   "cell_type": "code",
   "execution_count": 4,
   "id": "f9ab6171",
   "metadata": {},
   "outputs": [
    {
     "data": {
      "text/plain": [
       "{'query': 'Whats a node in Langgraph?',\n",
       " 'follow_up_questions': None,\n",
       " 'answer': None,\n",
       " 'images': [],\n",
       " 'results': [{'url': 'https://arize.com/docs/phoenix/cookbook/agent-workflow-patterns/langgraph',\n",
       "   'title': 'LangGraph | Arize Phoenix',\n",
       "   'content': '*   [Agent Cookbooks](https://arize.com/docs/phoenix/cookbook/agent-cookbooks) *   [Agent Demos](https://arize.com/docs/phoenix/cookbook/agent-demos) *   [Agent Workflow Patterns](https://arize.com/docs/phoenix/cookbook/agent-workflow-patterns) *   [AutoGen](https://arize.com/docs/phoenix/cookbook/agent-workflow-patterns/autogen) *   [CrewAI](https://arize.com/docs/phoenix/cookbook/agent-workflow-patterns/crewai) *   [Google GenAI SDK (Manual Orchestration)](https://arize.com/docs/phoenix/cookbook/agent-workflow-patterns/google-genai-sdk-manual-orchestration) *   [OpenAI Agents](https://arize.com/docs/phoenix/cookbook/agent-workflow-patterns/openai-agents) *   [LangGraph](https://arize.com/docs/phoenix/cookbook/agent-workflow-patterns/langgraph) *   [Smolagents](https://arize.com/docs/phoenix/cookbook/agent-workflow-patterns/smolagents) *   [Generating Synthetic Datasets for LLM Evaluators & Agents](https://arize.com/docs/phoenix/cookbook/tracing/generating-synthetic-datasets-for-llm-evaluators-and-agents) *   [Product Recommendation Agent: Google Agent Engine & LangGraph](https://arize.com/docs/phoenix/cookbook/tracing/product-recommendation-agent-google-agent-engine-and-langgraph) *   [Creating a Custom LLM Evaluator with a Benchmark Dataset](https://arize.com/docs/phoenix/cookbook/human-in-the-loop-workflows-annotations/creating-a-custom-llm-evaluator-with-a-benchmark-dataset) *   [Evaluate a Talk-to-your-Data Agent](https://arize.com/docs/phoenix/cookbook/evaluation/evaluate-an-agent) *    [Core LangGraph Concepts](https://arize.com/docs/phoenix/cookbook/agent-workflow-patterns/langgraph#core-langgraph-concepts) *   [Design Considerations & Limitations](https://arize.com/docs/phoenix/cookbook/agent-workflow-patterns/langgraph#design-considerations-and-limitations) *   [Patterns](https://arize.com/docs/phoenix/cookbook/agent-workflow-patterns/langgraph#patterns) *   [Prompt Chaining](https://arize.com/docs/phoenix/cookbook/agent-workflow-patterns/langgraph#prompt-chaining) *   [Parallelization](https://arize.com/docs/phoenix/cookbook/agent-workflow-patterns/langgraph#parallelization) *   [Router](https://arize.com/docs/phoenix/cookbook/agent-workflow-patterns/langgraph#router) *   [Evaluator–Optimizer Loop](https://arize.com/docs/phoenix/cookbook/agent-workflow-patterns/langgraph#evaluator-optimizer-loop) *   [Orchestrator–Worker](https://arize.com/docs/phoenix/cookbook/agent-workflow-patterns/langgraph#orchestrator-worker) [Edit](https://github.com/Arize-ai/phoenix/blob/docs/docs/section-cookbooks/agent-workflow-patterns/langgraph.md) 1.   [Agent Workflow Patterns](https://arize.com/docs/phoenix/cookbook/agent-workflow-patterns) ### [](https://arize.com/docs/phoenix/cookbook/agent-workflow-patterns/langgraph#core-langgraph-concepts) #### [](https://arize.com/docs/phoenix/cookbook/agent-workflow-patterns/langgraph#state) #### [](https://arize.com/docs/phoenix/cookbook/agent-workflow-patterns/langgraph#nodes) #### [](https://arize.com/docs/phoenix/cookbook/agent-workflow-patterns/langgraph#edges) #### [](https://arize.com/docs/phoenix/cookbook/agent-workflow-patterns/langgraph#conditional-routing) #### [](https://arize.com/docs/phoenix/cookbook/agent-workflow-patterns/langgraph#send-api) #### [](https://arize.com/docs/phoenix/cookbook/agent-workflow-patterns/langgraph#agent-supervision) #### [](https://arize.com/docs/phoenix/cookbook/agent-workflow-patterns/langgraph#checkpointing-and-persistence) ### [](https://arize.com/docs/phoenix/cookbook/agent-workflow-patterns/langgraph#design-considerations-and-limitations) [](https://arize.com/docs/phoenix/cookbook/agent-workflow-patterns/langgraph#patterns) ### [](https://arize.com/docs/phoenix/cookbook/agent-workflow-patterns/langgraph#prompt-chaining) ### [](https://arize.com/docs/phoenix/cookbook/agent-workflow-patterns/langgraph#parallelization) ### [](https://arize.com/docs/phoenix/cookbook/agent-workflow-patterns/langgraph#router) ### [](https://arize.com/docs/phoenix/cookbook/agent-workflow-patterns/langgraph#evaluator-optimizer-loop) ### [](https://arize.com/docs/phoenix/cookbook/agent-workflow-patterns/langgraph#orchestrator-worker)',\n",
       "   'score': 0.6208291,\n",
       "   'raw_content': None},\n",
       "  {'url': 'https://www.ibm.com/think/topics/langgraph',\n",
       "   'title': 'What is LangGraph? - IBM',\n",
       "   'content': '*   [Overview](https://www.ibm.com/think/topics/ai-agents#7281535) *   [Overview](https://www.ibm.com/think/topics/components-of-ai-agents#498277090) *   [Learning](https://www.ibm.com/think/topics/ai-agent-learning#498277087) *   [Tutorial: LangGraph ReAct agent](https://www.ibm.com/think/tutorials/deploy-langgraph-react-agent-manage-it-support-tickets-watsonx-ai#1287801557) *   [Overview](https://www.ibm.com/think/topics/ai-agent-protocols#1509394340) *   [Tutorial: LangGraph ReAct agent](https://www.ibm.com/think/tutorials/deploy-langgraph-react-agent-manage-it-support-tickets-watsonx-ai#80364620) *   [Overview](https://www.ibm.com/think/insights/ai-agent-governance#1268897081) *   [Overview](https://www.ibm.com/think/topics/ai-agent-use-cases#257779831) *   [Human resources](https://www.ibm.com/think/topics/ai-agents-in-human-resources#257779835) LangGraph, created by [LangChain](https://www.ibm.com/think/topics/langchain), is an open source AI agent framework designed to build, deploy and manage complex generative AI agent workflows. At its core, LangGraph uses the power of graph-based architectures to model and manage the intricate relationships between various components of an [AI agent workflow](https://www.ibm.com/think/topics/ai-agents). LangGraph is also built on several key technologies, including [LangChain,](https://www.ibm.com/think/topics/langchain) a Python framework for building AI applications. By combining these technologies with a set of APIs and tools, LangGraph provides users with a versatile platform for developing AI solutions and workflows including [chatbots](https://www.ibm.com/think/topics/chatbots), state graphs and [other agent-based systems](https://www.ibm.com/think/topics/multiagent-system).',\n",
       "   'score': 0.5911811,\n",
       "   'raw_content': None},\n",
       "  {'url': 'https://www.datacamp.com/tutorial/langgraph-tutorial',\n",
       "   'title': 'LangGraph Tutorial: What Is LangGraph and How to Use It?',\n",
       "   'content': 'LangGraph is a library within the LangChain ecosystem that provides a framework for defining, coordinating, and executing multiple LLM agents (or chains) in a structured and efficient manner. By managing the flow of data and the sequence of operations, LangGraph allows developers to focus on the high-level logic of their applications rather than the intricacies of agent coordination. Whether you need a chatbot that can handle various types of user requests or a multi-agent system that performs complex tasks, LangGraph provides the tools to build exactly what you need. LangGraph significantly simplifies the development of complex LLM applications by providing a structured framework for managing state and coordinating agent interactions.',\n",
       "   'score': 0.57408494,\n",
       "   'raw_content': None},\n",
       "  {'url': 'https://medium.com/@kbdhunga/beginners-guide-to-langgraph-understanding-state-nodes-and-edges-part-1-897e6114fa48',\n",
       "   'title': \"Beginner's Guide to LangGraph: Understanding State, Nodes, and ...\",\n",
       "   'content': '# Beginner’s Guide to LangGraph: Understanding State, Nodes, and Edges — Part 1 LangGraph — State, Node and Edge Explained Mainly, we will focus on various components of LangGraph: **State, Node, and Edges, and how to build a complete graph from these components**. Once we understand these components, we will be able to build relatively complex LangGraph-based agents. The Comprehensive LangGraph Guide is available **here**. ### Streamlit app\\u200a—\\u200aHIL (Agent Framework\\u200a—\\u200aLangGraph) ## Building an AI Agent for Text-to-SQL with LangGraph: Part II ### Building Human-in-the-Loop Workflows: Interrupt Handling with LangGraph and API Integration ## Creating an MCP Server and Integrating with LangGraph ## LangGraph ## Building Conditional LLM Agent Workflows with LangGraph ## Human-in-the-Loop with LangGraph: A Beginner’s Guide',\n",
       "   'score': 0.568632,\n",
       "   'raw_content': None},\n",
       "  {'url': 'https://www.linkedin.com/pulse/fast-explain-langgraph-l%C6%B0u-v%C3%B5-7u2qc',\n",
       "   'title': 'Understanding LangGraph: A Brief Guide - LinkedIn',\n",
       "   'content': 'current_state = MyGraphState(input_topic=\"LangGraph\", research_notes=[], draft_content=\"\", critique=\"\", final_answer=\"\") Initial State: {\\'input_topic\\': \\'LangGraph\\', \\'research_notes\\': [], \\'draft_content\\': \\'\\', \\'critique\\': \\'\\', \\'final_answer\\': \\'\\'} When an interrupt occurs, the graph\\'s current state is saved (if a checkpointer is configured), and you can inspect it, provide new input, and then resume the graph. def get_human_answer_node(state: InterviewState) -> dict: current_state_snapshot.next will be (\\'get_human_answer\\',) # LangGraph will merge this into the state *before* running the interrupted node. current_state_snapshot = app.invoke({\"answer\": human_input_1}, config=config) # Resume with human\\'s answer current_state_snapshot = app.invoke({\"answer\": human_input_2}, config=config) Because LangGraph (when used with a checkpointer) saves the state at each step (or before each interrupt), it creates a history of the graph\\'s execution. state_snapshot.next == (\\'get_human_answer\\',): # After ask_question, before get_human_answer print(f\"Snapshot {i} (ts={state_snapshot.config[\\'configurable\\'][\\'thread_ts\\']}): Log: {state_snapshot.values.get(\\'interview_log\\')}\")',\n",
       "   'score': 0.48733237,\n",
       "   'raw_content': None}],\n",
       " 'response_time': 1.06,\n",
       " 'request_id': 'e85d563e-b189-4f25-859b-7f9bac8d2f30'}"
      ]
     },
     "execution_count": 4,
     "metadata": {},
     "output_type": "execute_result"
    }
   ],
   "source": [
    "response"
   ]
  },
  {
   "cell_type": "code",
   "execution_count": null,
   "id": "b6e788ad",
   "metadata": {},
   "outputs": [],
   "source": []
  }
 ],
 "metadata": {
  "kernelspec": {
   "display_name": ".venv",
   "language": "python",
   "name": "python3"
  },
  "language_info": {
   "codemirror_mode": {
    "name": "ipython",
    "version": 3
   },
   "file_extension": ".py",
   "mimetype": "text/x-python",
   "name": "python",
   "nbconvert_exporter": "python",
   "pygments_lexer": "ipython3",
   "version": "3.13.9"
  }
 },
 "nbformat": 4,
 "nbformat_minor": 5
}
