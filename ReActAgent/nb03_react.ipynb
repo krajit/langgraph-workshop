{
 "cells": [
  {
   "cell_type": "code",
   "execution_count": 1,
   "id": "f9968015",
   "metadata": {},
   "outputs": [],
   "source": [
    "%load_ext autoreload\n",
    "%autoreload 2"
   ]
  },
  {
   "cell_type": "code",
   "execution_count": 2,
   "id": "dfcad104",
   "metadata": {},
   "outputs": [
    {
     "data": {
      "text/plain": [
       "True"
      ]
     },
     "execution_count": 2,
     "metadata": {},
     "output_type": "execute_result"
    }
   ],
   "source": [
    "from dotenv import load_dotenv\n",
    "load_dotenv()"
   ]
  },
  {
   "cell_type": "code",
   "execution_count": 8,
   "id": "d30964dc",
   "metadata": {},
   "outputs": [
    {
     "name": "stdout",
     "output_type": "stream",
     "text": [
      "Writing react_agent01.py\n"
     ]
    }
   ],
   "source": [
    "%%writefile react_agent01.py\n",
    "\n",
    "from dotenv import load_dotenv\n",
    "load_dotenv()\n",
    "\n",
    "from tavilytool import tool as tavilyTool\n",
    "# Exercise: can add more tools here later\n",
    "# TODO: add some tools from MCP here\n",
    "\n",
    "tools = [tavilyTool]\n",
    "\n",
    "\n",
    "from langchain.chat_models import init_chat_model\n",
    "\n",
    "from typing import Annotated\n",
    "\n",
    "from typing_extensions import TypedDict\n",
    "\n",
    "from langgraph.graph import StateGraph, START, END\n",
    "from langgraph.graph.message import add_messages\n",
    "\n",
    "class State(TypedDict):\n",
    "    messages: Annotated[list, add_messages]\n",
    "\n",
    "graph_builder = StateGraph(State)\n",
    "\n",
    "# Modification: tell the LLM which tools it can call\n",
    "llm = init_chat_model(\"anthropic:claude-3-5-sonnet-latest\")\n",
    "llm_with_tools = llm.bind_tools(tools)\n",
    "\n",
    "def chatbot(state: State):\n",
    "    return {\"messages\": [llm_with_tools.invoke(state[\"messages\"])]}\n",
    "\n",
    "graph_builder.add_node(\"chatbot\", chatbot)\n",
    "\n",
    "\n",
    "import json\n",
    "\n",
    "from langchain_core.messages import ToolMessage\n",
    "\n",
    "\n",
    "class BasicToolNode:\n",
    "    \"\"\"A node that runs the tools requested in the last AIMessage.\"\"\"\n",
    "\n",
    "    def __init__(self, tools: list) -> None:\n",
    "        self.tools_by_name = {tool.name: tool for tool in tools}\n",
    "\n",
    "    def __call__(self, inputs: dict):\n",
    "        if messages := inputs.get(\"messages\", []):\n",
    "            message = messages[-1]\n",
    "        else:\n",
    "            raise ValueError(\"No message found in input\")\n",
    "        outputs = []\n",
    "        for tool_call in message.tool_calls:\n",
    "            tool_result = self.tools_by_name[tool_call[\"name\"]].invoke(\n",
    "                tool_call[\"args\"]\n",
    "            )\n",
    "            outputs.append(\n",
    "                ToolMessage(\n",
    "                    content=json.dumps(tool_result),\n",
    "                    name=tool_call[\"name\"],\n",
    "                    tool_call_id=tool_call[\"id\"],\n",
    "                )\n",
    "            )\n",
    "        return {\"messages\": outputs}\n",
    "\n",
    "\n",
    "tool_node = BasicToolNode(tools=tools)\n",
    "graph_builder.add_node(\"tools\", tool_node)\n",
    "\n",
    "\n",
    "def route_tools(\n",
    "    state: State,\n",
    "):\n",
    "    \"\"\"\n",
    "    Use in the conditional_edge to route to the ToolNode if the last message\n",
    "    has tool calls. Otherwise, route to the end.\n",
    "    \"\"\"\n",
    "    if isinstance(state, list):\n",
    "        ai_message = state[-1]\n",
    "    elif messages := state.get(\"messages\", []):\n",
    "        ai_message = messages[-1]\n",
    "    else:\n",
    "        raise ValueError(f\"No messages found in input state to tool_edge: {state}\")\n",
    "    if hasattr(ai_message, \"tool_calls\") and len(ai_message.tool_calls) > 0:\n",
    "        return \"tools\"\n",
    "    return END\n",
    "\n",
    "# The `tools_condition` function returns \"tools\" if the chatbot asks to use a tool, and \"END\" if\n",
    "# it is fine directly responding. This conditional routing defines the main agent loop.\n",
    "graph_builder.add_conditional_edges(\n",
    "    \"chatbot\",\n",
    "    route_tools,\n",
    "    # The following dictionary lets you tell the graph to interpret the condition's outputs as a specific node\n",
    "    # It defaults to the identity function, but if you\n",
    "    # want to use a node named something else apart from \"tools\",\n",
    "    # You can update the value of the dictionary to something else\n",
    "    # e.g., \"tools\": \"my_tools\"\n",
    "    {\"tools\": \"tools\", END: END},\n",
    ")\n",
    "# Any time a tool is called, we return to the chatbot to decide the next step\n",
    "graph_builder.add_edge(\"tools\", \"chatbot\")\n",
    "graph_builder.add_edge(START, \"chatbot\")\n",
    "graph = graph_builder.compile()"
   ]
  },
  {
   "cell_type": "code",
   "execution_count": 9,
   "id": "b6e788ad",
   "metadata": {},
   "outputs": [
    {
     "data": {
      "image/png": "[encoded data removed]",
      "text/plain": [
       "<IPython.core.display.Image object>"
      ]
     },
     "metadata": {},
     "output_type": "display_data"
    }
   ],
   "source": [
    "from react_agent01 import graph\n",
    "\n",
    "from IPython.display import Image, display\n",
    "\n",
    "try:\n",
    "    display(Image(graph.get_graph().draw_mermaid_png()))\n",
    "except Exception:\n",
    "    # This requires some extra dependencies and is optional\n",
    "    pass"
   ]
  },
  {
   "cell_type": "code",
   "execution_count": 10,
   "id": "b5472506",
   "metadata": {},
   "outputs": [
    {
     "name": "stdout",
     "output_type": "stream",
     "text": [
      "Assistant: [{'text': \"I apologize, but I don't have a direct way to get today's current date. Let me search for current date information.\", 'type': 'text'}, {'id': 'toolu_01BkECxXHmXvAs7ppcN7Amjt', 'input': {'query': \"what is today's current date\", 'time_range': 'day'}, 'name': 'tavily_search', 'type': 'tool_use'}]\n",
      "Assistant: {\"query\": \"what is today's current date\", \"follow_up_questions\": null, \"answer\": null, \"images\": [], \"results\": [{\"url\": \"https://date-today.com/en/\", \"title\": \"What Is Today's Date\", \"content\": \"Today's date in gregorian ; Gregorian calendar, 21 October 2025 ; Gregorian calendar, Digital format, 21/10/2025 ; Year type, 2025 Is not a leap year ; Julian date\", \"score\": 0.79901963, \"raw_content\": null}, {\"url\": \"https://www.rapidtables.com/tools/todays-date.html\", \"title\": \"Today's Date | Current date now - RapidTables.com\", \"content\": \"This page includes the following information: Today's date: day of week, month, day, year. Current time: hours, minutes, seconds.\", \"score\": 0.75312227, \"raw_content\": null}, {\"url\": \"https://isotropic.org/date/\", \"title\": \"Today's Date - isotropic.org\", \"content\": \"Today is: ; Islamic: 28 Rabi II 1447 ; Hebrew: 29 Tishri 5786 ; Julian: 8 October 2025 ; ISO: Day 2 of week 43 of 2025 ; Persian: 30 Mehr 1404.\", \"score\": 0.73322314, \"raw_content\": null}, {\"url\": \"https://www.datecalculator.org/day-of-the-year\", \"title\": \"What day of the year is it today? - Date Calculator\", \"content\": \"Day of the year date in ISO 8601 date format is 2025-10-22. Day name is Wednesday. How many days have passed this year?\", \"score\": 0.55565286, \"raw_content\": null}, {\"url\": \"https://www.calendardate.com/todays.htm\", \"title\": \"Today's Date - CalendarDate.com\", \"content\": \"Details about today's date with count of days, weeks, and months, Sun and Moon cycles, Zodiac signs and holidays.\", \"score\": 0.4866005, \"raw_content\": null}], \"response_time\": 0.97, \"request_id\": \"090fd083-d841-4d81-987c-ceefeba799fe\"}\n",
      "Assistant: Based on the search results, today's date is October 21, 2025 (21/10/2025).\n",
      "\n",
      "However, I should note that this might not be entirely accurate as search results can sometimes show different dates. For the most accurate current date, I recommend checking your device's system clock or an official time-keeping website.\n",
      "Assistant: I notice you've said \"bye\" - this seems like you're trying to end the conversation rather than make a search query. If you have a question you'd like to search for information about, I'd be happy to help you find relevant results using the search tool. Otherwise, goodbye and have a great day!\n",
      "Goodbye!\n"
     ]
    }
   ],
   "source": [
    "def stream_graph_updates(user_input: str):\n",
    "    for event in graph.stream({\"messages\": [{\"role\": \"user\", \"content\": user_input}]}):\n",
    "        for value in event.values():\n",
    "            print(\"Assistant:\", value[\"messages\"][-1].content)\n",
    "\n",
    "while True:\n",
    "    try:\n",
    "        user_input = input(\"User: \")\n",
    "        if user_input.lower() in [\"quit\", \"exit\", \"q\"]:\n",
    "            print(\"Goodbye!\")\n",
    "            break\n",
    "\n",
    "        stream_graph_updates(user_input)\n",
    "    except:\n",
    "        # fallback if input() is not available\n",
    "        user_input = \"What do you know about LangGraph?\"\n",
    "        print(\"User: \" + user_input)\n",
    "        stream_graph_updates(user_input)\n",
    "        break"
   ]
  },
  {
   "cell_type": "code",
   "execution_count": null,
   "id": "857301b8",
   "metadata": {},
   "outputs": [],
   "source": []
  }
 ],
 "metadata": {
  "kernelspec": {
   "display_name": ".venv",
   "language": "python",
   "name": "python3"
  },
  "language_info": {
   "codemirror_mode": {
    "name": "ipython",
    "version": 3
   },
   "file_extension": ".py",
   "mimetype": "text/x-python",
   "name": "python",
   "nbconvert_exporter": "python",
   "pygments_lexer": "ipython3",
   "version": "3.13.9"
  }
 },
 "nbformat": 4,
 "nbformat_minor": 5
}
